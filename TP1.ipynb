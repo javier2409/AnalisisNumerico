{
 "cells": [
  {
   "cell_type": "code",
   "execution_count": 4,
   "metadata": {},
   "outputs": [],
   "source": [
    "import pandas as pd"
   ]
  },
  {
   "cell_type": "code",
   "execution_count": 5,
   "metadata": {},
   "outputs": [],
   "source": [
    "import numpy as np"
   ]
  },
  {
   "cell_type": "markdown",
   "metadata": {},
   "source": [
    "# Constantes"
   ]
  },
  {
   "cell_type": "code",
   "execution_count": 6,
   "metadata": {},
   "outputs": [],
   "source": [
    "k = 10\n",
    "L0 = 1.986\n",
    "m0 = 0.993\n",
    "a = 1\n",
    "g = 9.81"
   ]
  },
  {
   "cell_type": "code",
   "execution_count": 7,
   "metadata": {},
   "outputs": [],
   "source": [
    "tolerancia = 0.5*(10**(-15)) #0,5 * 10exp(-15)"
   ]
  },
  {
   "cell_type": "markdown",
   "metadata": {},
   "source": [
    "# Funciones"
   ]
  },
  {
   "cell_type": "code",
   "execution_count": 8,
   "metadata": {},
   "outputs": [],
   "source": [
    "def f (x):\n",
    "    return -2*k*x*(1-(L0)/np.sqrt(x**2+a**2))\n",
    "def f_m (x,coef):\n",
    "    return f(x)-m0*coef*g\n",
    "def der_f(x):\n",
    "    return ((-2*k*L0*x**2) / ((a**2+x**2)**(3/2))) - 2*k*(1-(L0/np.sqrt(a**2+x**2)))"
   ]
  },
  {
   "cell_type": "code",
   "execution_count": 9,
   "metadata": {},
   "outputs": [],
   "source": [
    "def nr (p0,f,der_f,max_iter,tol,true_root = \"None\"):\n",
    "    dif_iter = []\n",
    "    output = []\n",
    "    cols = [\"y\",\"deltay\",\"deltay/y\",\"lambda\",\"p\"]\n",
    "    c = True\n",
    "    i = 0\n",
    "    p = p0\n",
    "    while (c and (i<=max_iter)):\n",
    "        old_p = p\n",
    "        p = p - f(p)/der_f(p)\n",
    "        output.append([old_p,np.abs(p-old_p),np.abs(p-old_p)/old_p,0,p])\n",
    "        dif_iter.append(np.abs(p-old_p))\n",
    "        if true_root == \"None\":\n",
    "            c = (np.abs(p-old_p) >= tol)\n",
    "        else:\n",
    "            c = (np.abs(p-true_root) >= tol)\n",
    "        i+=1\n",
    "    df = pd.DataFrame(output)\n",
    "    df.columns = cols\n",
    "    return df,dif_iter\n",
    "        "
   ]
  },
  {
   "cell_type": "code",
   "execution_count": 32,
   "metadata": {},
   "outputs": [],
   "source": [
    "def biseccion (a,b,f,max_iter,tol,true_root = \"None\"):\n",
    "    cols = [\"a\",\"b\",\"f(a)\",\"f(b)\",\"r\",\"deltar\",\"deltar/r\",\"lambda\",\"p\"]\n",
    "    output=[]\n",
    "    c=True\n",
    "    i=0\n",
    "    while (c and (i<=max_iter)):\n",
    "        p = (a+b)/2\n",
    "        table_entry = [a,b,f(a),f(b),0,0,0,0,p]\n",
    "        \n",
    "        if f(a)*f(p) < 0:\n",
    "            b=p\n",
    "        else:\n",
    "            a=p\n",
    "        \n",
    "        next_p_dif = np.abs(((a+b)/2)-p)        \n",
    "        \n",
    "        if (true_root == \"None\"):\n",
    "            table_entry[4] = (table_entry[1]-table_entry[0])/2\n",
    "            c = (next_p_dif > tol)\n",
    "        else:\n",
    "            table_entry[4] = np.abs(p-true_root)\n",
    "            c = (table_entry[4] > tol)\n",
    "            \n",
    "        table_entry[5] = np.abs(next_p_dif)\n",
    "        table_entry[6] = table_entry[5]/table_entry[4]\n",
    "            \n",
    "        output.append(table_entry)\n",
    "        i+=1       \n",
    "    df = pd.DataFrame(output)\n",
    "    df.columns = cols\n",
    "    return df;\n",
    "            "
   ]
  },
  {
   "cell_type": "code",
   "execution_count": 33,
   "metadata": {},
   "outputs": [],
   "source": [
    "bisec1 = biseccion(-0.5,1,f,200,tolerancia,0)"
   ]
  },
  {
   "cell_type": "code",
   "execution_count": 75,
   "metadata": {},
   "outputs": [],
   "source": [
    "bisec2 = biseccion(1.7,1.8,f,200,tolerancia,np.sqrt(L0**2-a**2))"
   ]
  },
  {
   "cell_type": "code",
   "execution_count": 38,
   "metadata": {},
   "outputs": [],
   "source": [
    "nr1 = nr(der_f=der_f,f=f,p0=0.1,tol=tolerancia,true_root=0,max_iter=30)"
   ]
  },
  {
   "cell_type": "code",
   "execution_count": 39,
   "metadata": {},
   "outputs": [],
   "source": [
    "nr2 = nr(der_f=der_f,f=f,p0=-1.7,tol=tolerancia,max_iter=30)"
   ]
  },
  {
   "cell_type": "code",
   "execution_count": null,
   "metadata": {},
   "outputs": [],
   "source": []
  }
 ],
 "metadata": {
  "kernelspec": {
   "display_name": "Python 3",
   "language": "python",
   "name": "python3"
  },
  "language_info": {
   "codemirror_mode": {
    "name": "ipython",
    "version": 3
   },
   "file_extension": ".py",
   "mimetype": "text/x-python",
   "name": "python",
   "nbconvert_exporter": "python",
   "pygments_lexer": "ipython3",
   "version": "3.6.5"
  }
 },
 "nbformat": 4,
 "nbformat_minor": 2
}
