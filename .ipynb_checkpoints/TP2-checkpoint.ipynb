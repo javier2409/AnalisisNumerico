{
 "cells": [
  {
   "cell_type": "markdown",
   "metadata": {},
   "source": [
    "Introducción\n",
    "------------------\n",
    "\n",
    "Se plantea resolver la evolución temporal de la temperatura de un tubo metálico que pasa a velocidad constante por un horno de largo `L`, con la primera mitad del horno a temperatura `T1` y la segunda mitad a temperatura `T2`.\n",
    "\n",
    "Por la ley de conservación de la energía obtenemos la siguiente ecuación diferencial:"
   ]
  },
  {
   "cell_type": "markdown",
   "metadata": {},
   "source": [
    "$-mC \\frac{dT}{dt} = h_c S (T-T_\\infty ) + \\sigma \\epsilon S (T^4 - T_\\infty ^4)$"
   ]
  },
  {
   "cell_type": "markdown",
   "metadata": {},
   "source": [
    "Para resolverla vamos a utilizar los métodos de Euler y Runge-Kutta de orden 4, por lo que reescribimos la ecuación de la siguiente forma:"
   ]
  },
  {
   "cell_type": "markdown",
   "metadata": {},
   "source": [
    "$\\frac{dT}{dt} = f(t,T) = -[\\frac{h_c}{mC} S (T-T_\\infty ) + \\frac{\\sigma \\epsilon S}{mC} (T^4 - T_\\infty ^4)]$"
   ]
  },
  {
   "cell_type": "markdown",
   "metadata": {},
   "source": [
    "Importamos las librerías que vamos a utilizar"
   ]
  },
  {
   "cell_type": "code",
   "execution_count": 1,
   "metadata": {},
   "outputs": [],
   "source": [
    "import numpy as np\n",
    "import matplotlib.pyplot as plt\n",
    "import seaborn as sns"
   ]
  },
  {
   "cell_type": "markdown",
   "metadata": {},
   "source": [
    "Método de Euler\n",
    "---------------\n"
   ]
  },
  {
   "cell_type": "markdown",
   "metadata": {},
   "source": [
    "A continuación se muestra la implementación del método de Euler que vamos a utilizar en este trabajo."
   ]
  },
  {
   "cell_type": "code",
   "execution_count": 2,
   "metadata": {},
   "outputs": [],
   "source": [
    "def euler (f,h,y0,t0,tf):\n",
    "    y_array = [y0]\n",
    "    t_array = [t0]\n",
    "    t = t0\n",
    "    y = y0\n",
    "    while (t <= tf):\n",
    "        y = y + h*f(t,y)\n",
    "        t = t+h\n",
    "        y_array.append(y)\n",
    "        t_array.append(t)\n",
    "    return [y_array,t_array]       "
   ]
  },
  {
   "cell_type": "markdown",
   "metadata": {},
   "source": [
    "Mostramos un ejemplo de la utilización del método"
   ]
  },
  {
   "cell_type": "code",
   "execution_count": 3,
   "metadata": {},
   "outputs": [],
   "source": [
    "def g (t,y):\n",
    "    return t*np.cos(y+t**3)+np.log(y*t+2)"
   ]
  },
  {
   "cell_type": "code",
   "execution_count": 4,
   "metadata": {},
   "outputs": [],
   "source": [
    "a = euler(g,0.001,0,0,3)"
   ]
  },
  {
   "cell_type": "code",
   "execution_count": 5,
   "metadata": {},
   "outputs": [
    {
     "data": {
      "image/png": "[encoded data removed]",
      "text/plain": [
       "<Figure size 432x288 with 1 Axes>"
      ]
     },
     "metadata": {
      "needs_background": "light"
     },
     "output_type": "display_data"
    }
   ],
   "source": [
    "plt.plot(a[1],a[0])\n",
    "plt.grid(True)"
   ]
  },
  {
   "cell_type": "markdown",
   "metadata": {},
   "source": [
    "Método de Runge-Kutta de orden 4\n",
    "--------------------------------\n"
   ]
  },
  {
   "cell_type": "code",
   "execution_count": 6,
   "metadata": {},
   "outputs": [],
   "source": [
    "def rk4 (f,h,y0,t0,tf):\n",
    "    y_array = [y0]\n",
    "    t_array = [t0]\n",
    "    y = y0\n",
    "    t = t0\n",
    "    while t <= tf :\n",
    "        k1 = f(t,y)\n",
    "        k2 = f(t+(h/2),y+((h/2)*k1))\n",
    "        k3 = f(t+(h/2),y+((h/2)*k2))\n",
    "        k4 = f(t+h,y+(h*k3))\n",
    "        y = y+((h/6)*(k1+(2*k2)+(2*k3)+k4))\n",
    "        t += h\n",
    "        y_array.append(y)\n",
    "        t_array.append(t)\n",
    "    return [y_array,t_array]"
   ]
  },
  {
   "cell_type": "code",
   "execution_count": 7,
   "metadata": {},
   "outputs": [],
   "source": [
    "b = rk4(g,0.01,0,0,3)"
   ]
  },
  {
   "cell_type": "code",
   "execution_count": 8,
   "metadata": {},
   "outputs": [
    {
     "data": {
      "image/png": "[encoded data removed]",
      "text/plain": [
       "<Figure size 432x288 with 1 Axes>"
      ]
     },
     "metadata": {
      "needs_background": "light"
     },
     "output_type": "display_data"
    }
   ],
   "source": [
    "plt.plot(b[1],b[0])\n",
    "plt.grid(True)"
   ]
  },
  {
   "cell_type": "markdown",
   "metadata": {},
   "source": [
    "Punto 1\n",
    "-------\n",
    "\n"
   ]
  },
  {
   "cell_type": "markdown",
   "metadata": {},
   "source": [
    "### Datos del problema"
   ]
  },
  {
   "cell_type": "markdown",
   "metadata": {},
   "source": [
    "Definimos f(t,T) sin el término de intercambio radiactivo y la temperatura T_inf (temperatura del horno) la cual no es constante"
   ]
  },
  {
   "cell_type": "code",
   "execution_count": 20,
   "metadata": {},
   "outputs": [],
   "source": [
    "def f (t,T):\n",
    "    return ((((-hc)*s) / (m*C)) * (T-T_inf(t,T1,T2)))\n",
    "\n",
    "def T_inf (t,T1,T2):\n",
    "    x = v0*t\n",
    "    if x<=(L/2):\n",
    "        return T1\n",
    "    else:\n",
    "        return T2"
   ]
  },
  {
   "cell_type": "markdown",
   "metadata": {},
   "source": [
    "Constantes:"
   ]
  },
  {
   "cell_type": "code",
   "execution_count": 17,
   "metadata": {},
   "outputs": [],
   "source": [
    "p = 7850\n",
    "C = 480\n",
    "OD = 0.24448  \n",
    "WT = 0.01384\n",
    "Lt = 12\n",
    "L = 50\n",
    "nbol = 50\n",
    "cad = 24\n",
    "T1 = 986\n",
    "T2 = T1\n",
    "hc = 20\n",
    "o = 0.000000056703\n",
    "e = 0.85\n",
    "\n",
    "v0 = L/(nbol*cad)\n",
    "tf = L/v0\n",
    "m = p*np.pi*OD*WT*(1-(WT/OD))*Lt\n",
    "s = np.pi*OD*Lt"
   ]
  },
  {
   "cell_type": "markdown",
   "metadata": {},
   "source": [
    "Obtenemos el resultado de los métodos y la solución analítica"
   ]
  },
  {
   "cell_type": "code",
   "execution_count": 21,
   "metadata": {},
   "outputs": [],
   "source": [
    "rk4_1 = rk4(f,cad,293.15,0,tf)"
   ]
  },
  {
   "cell_type": "code",
   "execution_count": 22,
   "metadata": {},
   "outputs": [],
   "source": [
    "euler_1 = euler(f,cad,293.15,0,tf)"
   ]
  },
  {
   "cell_type": "code",
   "execution_count": 23,
   "metadata": {},
   "outputs": [],
   "source": [
    "def solution_1(t):\n",
    "    return T_inf(t,T1,T2)+((293.15-T_inf(t,T1,T2))*(np.e**((((-(hc*s))/(m*C)))*t)))\n",
    "real_sol_1 = [[],[]]\n",
    "real_sol_1[1] = euler_1[1]\n",
    "for i in real_sol_1[1]:\n",
    "    real_sol_1[0].append(solution_1(i))"
   ]
  },
  {
   "cell_type": "markdown",
   "metadata": {},
   "source": [
    "### Ítem 1a\n"
   ]
  },
  {
   "cell_type": "markdown",
   "metadata": {},
   "source": [
    "Pasamos los resultados a grados celsius y el tiempo a minutos para realizar el gráfico comparando ambos métodos con la solución analítica"
   ]
  },
  {
   "cell_type": "code",
   "execution_count": 24,
   "metadata": {},
   "outputs": [],
   "source": [
    "rk4_1_celsius = np.array(rk4_1[0])-273.15\n",
    "euler_1_celsius = np.array(euler_1[0])-273.15\n",
    "real_sol_1_celsius = np.array(real_sol_1[0])-273.15\n",
    "x_min = np.array(rk4_1[1])/60 #todos los x son iguales"
   ]
  },
  {
   "cell_type": "code",
   "execution_count": 232,
   "metadata": {
    "scrolled": false
   },
   "outputs": [
    {
     "data": {
      "text/plain": [
       "Text(0.5,1,'Comparación entre las soluciones de ambos metodos y la solución analítica')"
      ]
     },
     "execution_count": 232,
     "metadata": {},
     "output_type": "execute_result"
    },
    {
     "data": {
      "image/png": "[encoded data removed]",
      "text/plain": [
       "<Figure size 1008x504 with 1 Axes>"
      ]
     },
     "metadata": {
      "needs_background": "light"
     },
     "output_type": "display_data"
    }
   ],
   "source": [
    "fig,ax = plt.subplots(figsize=(14,7))\n",
    "sns.lineplot(x=x_min,y=rk4_1_celsius,label='Runge-Kutta')\n",
    "sns.lineplot(x=x_min,y=euler_1_celsius,label='Euler')\n",
    "sns.lineplot(x=x_min,y=real_sol_1_celsius,label='Solucion Analítica')\n",
    "plt.grid(True)\n",
    "plt.ylabel('Temperatura (ºC)')\n",
    "plt.xlabel('Minutos')\n",
    "plt.title('Comparación entre las soluciones de ambos metodos y la solución analítica')"
   ]
  },
  {
   "cell_type": "markdown",
   "metadata": {},
   "source": [
    "### Ítem 1b"
   ]
  },
  {
   "cell_type": "markdown",
   "metadata": {},
   "source": [
    "Obtenemos el error relativo, en el caso de Runge-Kutta como es cero, el error relativo es igual al absoluto,y realizamos el gráfico"
   ]
  },
  {
   "cell_type": "code",
   "execution_count": 231,
   "metadata": {},
   "outputs": [
    {
     "data": {
      "text/plain": [
       "Text(0.5,1,'Error relativo en función de los minutos')"
      ]
     },
     "execution_count": 231,
     "metadata": {},
     "output_type": "execute_result"
    },
    {
     "data": {
      "image/png": "[encoded data removed]",
      "text/plain": [
       "<Figure size 432x288 with 1 Axes>"
      ]
     },
     "metadata": {
      "needs_background": "light"
     },
     "output_type": "display_data"
    }
   ],
   "source": [
    "diff_rk4_1 = np.array(rk4_1[0])-np.array(real_sol_1[0])\n",
    "diff_euler_1 = (np.array(euler_1[0])-np.array(real_sol_1[0]))/np.array(euler_1[0])\n",
    "sns.lineplot(x=x_min,y=diff_euler_1,label='Euler')\n",
    "sns.lineplot(x=x_min,y=diff_rk4_1,label='Runge-Kutta')\n",
    "plt.grid(True)\n",
    "plt.xlabel('Minutos')\n",
    "plt.ylabel('Error relativo')\n",
    "plt.title('Error relativo en función de los minutos')"
   ]
  },
  {
   "cell_type": "markdown",
   "metadata": {},
   "source": [
    "### Ítem 1c\n",
    "\n",
    "La conclusión es que el método de Runge-Kutta de orden 4 es mucho mejor que el de Euler ya que tiene un orden de convergencia mayor y permite obtener resultados exactos en ciertos casos."
   ]
  },
  {
   "cell_type": "markdown",
   "metadata": {},
   "source": [
    "Punto 2\n",
    "-------\n",
    "\n"
   ]
  },
  {
   "cell_type": "markdown",
   "metadata": {},
   "source": [
    "### Datos del problema"
   ]
  },
  {
   "cell_type": "markdown",
   "metadata": {},
   "source": [
    "Definimos la nueva función f(t,T) con el término de intercambio radiactivo"
   ]
  },
  {
   "cell_type": "code",
   "execution_count": 11,
   "metadata": {},
   "outputs": [],
   "source": [
    "def f (t,T):\n",
    "    return ((((-hc)*s) / (m*C)) * (T-T_inf(t,T1,T2))) - (((o*e*s)*((T**4) - (T_inf(t,T1,T2)**4)))/(m*C))"
   ]
  },
  {
   "cell_type": "markdown",
   "metadata": {},
   "source": [
    "Constantes:"
   ]
  },
  {
   "cell_type": "code",
   "execution_count": 9,
   "metadata": {},
   "outputs": [],
   "source": [
    "p = 7850\n",
    "C = 480\n",
    "OD = 0.24448  \n",
    "WT = 0.01384\n",
    "Lt = 12\n",
    "L = 50\n",
    "nbol = 50\n",
    "cad = 24\n",
    "T1 = 986\n",
    "T2 = T1\n",
    "hc = 20\n",
    "o = 5.6703*(10**(-8))\n",
    "e = 0.85\n",
    "\n",
    "v0 = L/(nbol*cad)\n",
    "tf = L/v0\n",
    "m = p*np.pi*OD*WT*(1-(WT/OD))*Lt\n",
    "s = np.pi*OD*Lt"
   ]
  },
  {
   "cell_type": "markdown",
   "metadata": {},
   "source": [
    "### Ítem 2a\n",
    "Elegimos el método de Runge-Kutta porque es el método que funcionó mejor para el ítem 1 (dió cero error)"
   ]
  },
  {
   "cell_type": "code",
   "execution_count": 12,
   "metadata": {},
   "outputs": [],
   "source": [
    "rk4_2 = rk4(f,cad,293.15,0,tf)"
   ]
  },
  {
   "cell_type": "code",
   "execution_count": 13,
   "metadata": {},
   "outputs": [],
   "source": [
    "def solution_2(t):\n",
    "    return T_inf(t,T1,T2)+((293.15-T_inf(t,T1,T2))*(np.e**((((-(hc*s))/(m*C)))*t)))\n",
    "real_sol_2 = [[],[]]\n",
    "real_sol_2[1] = rk4_2[1]\n",
    "for i in real_sol_2[1]:\n",
    "    real_sol_2[0].append(solution_2(i))"
   ]
  },
  {
   "cell_type": "markdown",
   "metadata": {},
   "source": [
    "### Ítem 2b"
   ]
  },
  {
   "cell_type": "code",
   "execution_count": 29,
   "metadata": {},
   "outputs": [],
   "source": [
    "rk4_2_celsius = np.array(rk4_2[0])-273.15\n",
    "real_sol_2_celsius = np.array(real_sol_2[0])-273.15\n",
    "x_min_2 = np.array(rk4_2[1])/60"
   ]
  },
  {
   "cell_type": "code",
   "execution_count": 234,
   "metadata": {},
   "outputs": [
    {
     "data": {
      "text/plain": [
       "Text(0.5,1,'Comparación entre la solución con intercambio radiactivo y la solución analítica sin intercambio radiactivo')"
      ]
     },
     "execution_count": 234,
     "metadata": {},
     "output_type": "execute_result"
    },
    {
     "data": {
      "image/png": "[encoded data removed]",
      "text/plain": [
       "<Figure size 1008x504 with 1 Axes>"
      ]
     },
     "metadata": {
      "needs_background": "light"
     },
     "output_type": "display_data"
    }
   ],
   "source": [
    "fig,ax = plt.subplots(figsize=(14,7))\n",
    "sns.lineplot(x=x_min_2,y=rk4_2_celsius,label='Runge-Kutta')\n",
    "sns.lineplot(x=x_min_2,y=real_sol_2_celsius,label='Solucion Analítica')\n",
    "plt.grid(True)\n",
    "plt.ylabel('Temperatura (ºC)')\n",
    "plt.xlabel('Minutos')\n",
    "plt.title('Comparación entre la solución con intercambio radiactivo y la solución analítica sin intercambio radiactivo')"
   ]
  },
  {
   "cell_type": "markdown",
   "metadata": {},
   "source": [
    "Vemos que el intercambio de radiación **NO** es despreciable"
   ]
  },
  {
   "cell_type": "markdown",
   "metadata": {},
   "source": [
    "### Ítem 2c"
   ]
  },
  {
   "cell_type": "markdown",
   "metadata": {},
   "source": [
    "Obtenemos el soaking y la temperatura promedio durante el mismo"
   ]
  },
  {
   "cell_type": "code",
   "execution_count": 235,
   "metadata": {},
   "outputs": [
    {
     "name": "stdout",
     "output_type": "stream",
     "text": [
      "Soaking: 2.0 minutos\n",
      "Temperatura promedio durante el soaking: 695.1501077479244 ºC\n"
     ]
    }
   ],
   "source": [
    "for i,v in enumerate(rk4_2_celsius):\n",
    "    if v >= (rk4_2_celsius[len(rk4_2_celsius)-1] - 10):\n",
    "        index = i\n",
    "        break\n",
    "\n",
    "sk =  x_min_2[len(x_min_2)-1] - x_min_2[index]\n",
    "tsk = np.mean(rk4_2_celsius[index:])\n",
    "print('Soaking: '+str(sk)+' minutos')\n",
    "print('Temperatura promedio durante el soaking: '+str(tsk)+' ºC')"
   ]
  },
  {
   "cell_type": "markdown",
   "metadata": {},
   "source": [
    "Punto 3\n",
    "-----------"
   ]
  },
  {
   "cell_type": "markdown",
   "metadata": {},
   "source": [
    "### Parámetros fijos"
   ]
  },
  {
   "cell_type": "code",
   "execution_count": 217,
   "metadata": {},
   "outputs": [],
   "source": [
    "p = 7850\n",
    "C = 480\n",
    "OD = 0.24448  \n",
    "WT = 0.01384\n",
    "Lt = 12\n",
    "L = 50\n",
    "nbol = 50\n",
    "cad = 24\n",
    "hc = 20\n",
    "o = 5.6703*(10**(-8))\n",
    "e = 0.85\n",
    "\n",
    "v0 = L/(nbol*cad)\n",
    "tf = L/v0"
   ]
  },
  {
   "cell_type": "code",
   "execution_count": 218,
   "metadata": {},
   "outputs": [],
   "source": [
    "m = p*np.pi*OD*WT*(1-(WT/OD))*Lt\n",
    "s = np.pi*OD*Lt"
   ]
  },
  {
   "cell_type": "markdown",
   "metadata": {},
   "source": [
    "### Modelo Numérico"
   ]
  },
  {
   "cell_type": "markdown",
   "metadata": {},
   "source": [
    "Definimos la función `soaking` que recibe las temperaturas T1 y T2 en Kelvin e imprime el soaking (en minutos) y la temperatura promedio (en ºC)"
   ]
  },
  {
   "cell_type": "code",
   "execution_count": 219,
   "metadata": {},
   "outputs": [],
   "source": [
    "def soaking (T_inf_1,T_inf_2):\n",
    "    def f (t,T):\n",
    "        return ((((-hc)*s) / (m*C)) * (T-T_inf(t,T1,T2))) - (((o*e*s)*((T**4) - (T_inf(t,T1,T2)**4)))/(m*C))\n",
    "\n",
    "    def T_inf (t,T1,T2):\n",
    "        x = v0*t\n",
    "        if x<=(L/2):\n",
    "            return T1\n",
    "        else:\n",
    "            return T2\n",
    "        \n",
    "        \n",
    "    T1 = T_inf_1\n",
    "    T2 = T_inf_2\n",
    "    rk4_3 = rk4(f,cad,293.15,0,tf)\n",
    "    rk4_3_celsius = np.array(rk4_3[0])-273.15\n",
    "    x_min_3 = np.array(rk4_3[1])/60 #todos los x son iguales\n",
    "    \n",
    "    for i,v in enumerate(rk4_3_celsius):\n",
    "        if v >= (rk4_3_celsius[len(rk4_3_celsius)-1] - 10):\n",
    "            index = i\n",
    "            break\n",
    "\n",
    "    sk =  x_min_3[len(x_min_3)-1] - x_min_3[index]\n",
    "    tsk = np.mean(rk4_3_celsius[index:])\n",
    "    \n",
    "    sns.lineplot(x=x_min_3,y=rk4_3_celsius)\n",
    "    plt.grid(True)\n",
    "    print(\"Soaking: \"+str(sk)+\" minutos\")\n",
    "    print(\"Temperatura promedio de soaking: \"+str(tsk)+ \" ºC\")"
   ]
  },
  {
   "cell_type": "markdown",
   "metadata": {},
   "source": [
    "### Resultados\n",
    "\n",
    "Los resultados fueron encontrados a mano ejecutando varias veces esta función con distintos valores"
   ]
  },
  {
   "cell_type": "code",
   "execution_count": 220,
   "metadata": {},
   "outputs": [
    {
     "name": "stdout",
     "output_type": "stream",
     "text": [
      "Soaking: 10.399999999999999 minutos\n",
      "Temperatura promedio de soaking: 695.5523115470097 ºC\n"
     ]
    },
    {
     "data": {
      "image/png": "[encoded data removed]",
      "text/plain": [
       "<Figure size 432x288 with 1 Axes>"
      ]
     },
     "metadata": {
      "needs_background": "light"
     },
     "output_type": "display_data"
    }
   ],
   "source": [
    "soaking(1070,971)"
   ]
  },
  {
   "cell_type": "markdown",
   "metadata": {},
   "source": [
    "Punto 4\n",
    "-----------"
   ]
  },
  {
   "cell_type": "markdown",
   "metadata": {},
   "source": [
    "### Parámetros  fijos"
   ]
  },
  {
   "cell_type": "code",
   "execution_count": 207,
   "metadata": {},
   "outputs": [],
   "source": [
    "p = 7850\n",
    "C = 480\n",
    "OD = 0.24448  \n",
    "WT = 0.01384\n",
    "Lt = 12\n",
    "L = 50\n",
    "nbol = 50\n",
    "hc = 20\n",
    "o = 5.6703*(10**(-8))\n",
    "e = 0.85"
   ]
  },
  {
   "cell_type": "code",
   "execution_count": 208,
   "metadata": {},
   "outputs": [],
   "source": [
    "m = p*np.pi*OD*WT*(1-(WT/OD))*Lt\n",
    "s = np.pi*OD*Lt"
   ]
  },
  {
   "cell_type": "markdown",
   "metadata": {},
   "source": [
    "### Modelo Numérico"
   ]
  },
  {
   "cell_type": "markdown",
   "metadata": {},
   "source": [
    "Definimos la nueva función `soaking` que también depende de la cadencia"
   ]
  },
  {
   "cell_type": "code",
   "execution_count": 209,
   "metadata": {},
   "outputs": [],
   "source": [
    "def soaking (T_inf_1,T_inf_2,cadencia):\n",
    "    def f (t,T):\n",
    "        return ((((-hc)*s) / (m*C)) * (T-T_inf(t,T1,T2))) - (((o*e*s)*((T**4) - (T_inf(t,T1,T2)**4)))/(m*C))\n",
    "\n",
    "    def T_inf (t,T1,T2):\n",
    "        x = v0*t\n",
    "        if x<=(L/2):\n",
    "            return T1\n",
    "        else:\n",
    "            return T2\n",
    "        \n",
    "    cad = cadencia\n",
    "\n",
    "    v0 = L/(nbol*cad)\n",
    "    tf = L/v0\n",
    "    print('Tiempo final: '+str(tf/60)+' minutos')\n",
    "    T1 = T_inf_1\n",
    "    T2 = T_inf_2\n",
    "    rk4_4 = rk4(f,cad,293.15,0,tf)\n",
    "    rk4_4_celsius = np.array(rk4_4[0])-273.15\n",
    "    x_min_4 = np.array(rk4_4[1])/60 #todos los x son iguales\n",
    "    \n",
    "    for i,v in enumerate(rk4_4_celsius):\n",
    "        if v >= (rk4_4_celsius[len(rk4_4_celsius)-1] - 10):\n",
    "            index = i\n",
    "            break\n",
    "\n",
    "    sk =  x_min_4[len(x_min_4)-1] - x_min_4[index]\n",
    "    tsk = np.mean(rk4_4_celsius[index:])\n",
    "    \n",
    "    sns.lineplot(x=x_min_4,y=rk4_4_celsius)\n",
    "    plt.grid(True)\n",
    "    print(\"Soaking: \"+str(sk)+\" minutos\")\n",
    "    print(\"Temperatura promedio de soaking: \"+str(tsk)+ \" ºC\")"
   ]
  },
  {
   "cell_type": "code",
   "execution_count": 215,
   "metadata": {},
   "outputs": [
    {
     "name": "stdout",
     "output_type": "stream",
     "text": [
      "Tiempo final: 19.166666666666668 minutos\n",
      "Soaking: 9.966666666666667 minutos\n",
      "Temperatura promedio de soaking: 695.3636818565292 ºC\n"
     ]
    },
    {
     "data": {
      "image/png": "[encoded data removed]",
      "text/plain": [
       "<Figure size 432x288 with 1 Axes>"
      ]
     },
     "metadata": {
      "needs_background": "light"
     },
     "output_type": "display_data"
    }
   ],
   "source": [
    "soaking(1080,969,23)"
   ]
  },
  {
   "cell_type": "markdown",
   "metadata": {},
   "source": [
    "Punto 5\n",
    "-----------"
   ]
  },
  {
   "cell_type": "markdown",
   "metadata": {},
   "source": [
    "### Parámetros fijos"
   ]
  },
  {
   "cell_type": "code",
   "execution_count": 221,
   "metadata": {},
   "outputs": [],
   "source": [
    "p = 7850\n",
    "C = 480\n",
    "OD = 0.24448  \n",
    "WT = 0.01384\n",
    "Lt = 12\n",
    "L = 50\n",
    "nbol = 50\n",
    "cad = 24\n",
    "hc = 20\n",
    "o = 5.6703*(10**(-8))\n",
    "e = 0.85\n",
    "\n",
    "v0 = L/(nbol*cad)\n",
    "tf = L/v0"
   ]
  },
  {
   "cell_type": "code",
   "execution_count": 222,
   "metadata": {},
   "outputs": [],
   "source": [
    "m = p*np.pi*OD*WT*(1-(WT/OD))*Lt\n",
    "s = np.pi*OD*Lt"
   ]
  },
  {
   "cell_type": "markdown",
   "metadata": {},
   "source": [
    "### Modelo Numérico"
   ]
  },
  {
   "cell_type": "markdown",
   "metadata": {},
   "source": [
    "En este caso para realizar el método iterativo para encontrar las soluciones al sistema de ecuaciones definimos `soaking` de forma diferente para que reciba las temperaturas T1 y T2 en celsius."
   ]
  },
  {
   "cell_type": "code",
   "execution_count": 223,
   "metadata": {},
   "outputs": [],
   "source": [
    "# recibe T1 y T2 en celsius\n",
    "def soaking (T_inf_1,T_inf_2):\n",
    "    def f (t,T):\n",
    "        return ((((-hc)*s) / (m*C)) * (T-T_inf(t,T1,T2))) - (((o*e*s)*((T**4) - (T_inf(t,T1,T2)**4)))/(m*C))\n",
    "\n",
    "    def T_inf (t,T1,T2):\n",
    "        x = v0*t\n",
    "        if x<=(L/2):\n",
    "            return T1\n",
    "        else:\n",
    "            return T2\n",
    "        \n",
    "    # pasar a kelvin    \n",
    "    T1 = T_inf_1+273.15\n",
    "    T2 = T_inf_2+273.15\n",
    "    \n",
    "    # resolver por runge-kutta 4 usando temperatura en kelvin\n",
    "    rk4_5 = rk4(f,cad,293.15,0,tf)\n",
    "    \n",
    "    # pasar a celsius de nuevo y a minutos\n",
    "    rk4_5_celsius = np.array(rk4_5[0])-273.15\n",
    "    x_min_5 = np.array(rk4_5[1])/60 #todos los x son iguales\n",
    "    \n",
    "    for i,v in enumerate(rk4_5_celsius):\n",
    "        if v >= (rk4_5_celsius[len(rk4_5_celsius)-1] - 10):\n",
    "            index = i\n",
    "            break\n",
    "\n",
    "    sk =  x_min_5[len(x_min_5)-1] - x_min_5[index]\n",
    "    tsk = np.mean(rk4_5_celsius[index:])\n",
    "    \n",
    "    # devuelve en celsius o minutos\n",
    "    return np.array([tsk,sk])    "
   ]
  },
  {
   "cell_type": "markdown",
   "metadata": {},
   "source": [
    "### Sistema de ecuaciones"
   ]
  },
  {
   "cell_type": "markdown",
   "metadata": {},
   "source": [
    "Definimos el método iterativo que resuelve el sistema de ecuaciones, recibe una semilla, el objetivo (sk,tsk), el jacobiano `J` y la tolerancia para el criterio de paro."
   ]
  },
  {
   "cell_type": "code",
   "execution_count": 224,
   "metadata": {},
   "outputs": [],
   "source": [
    "def metodo (seed,obj,j,tol):\n",
    "    p = seed\n",
    "    dif = 100\n",
    "    iter = 0\n",
    "    while dif >= tol:\n",
    "        p_new = p - j.dot(soaking(p[0],p[1])-obj)\n",
    "        dif = np.absolute(p_new-p).max()\n",
    "        p = p_new\n",
    "        iter += 1\n",
    "    print(\"T1: \"+str(p[0])+\" ºC\")\n",
    "    print(\"T2: \"+str(p[1])+\" ºC\")\n",
    "    print(\"Nº iteraciones: \"+str(iter))"
   ]
  },
  {
   "cell_type": "markdown",
   "metadata": {},
   "source": [
    "Utilizamos el Jacobiano que sugiere el enunciado y la tolerancia de 3 dígitos."
   ]
  },
  {
   "cell_type": "code",
   "execution_count": 225,
   "metadata": {},
   "outputs": [],
   "source": [
    "J = np.array([[0.25,0.75],[0.75,0.25]])\n",
    "tol = 0.001"
   ]
  },
  {
   "cell_type": "markdown",
   "metadata": {},
   "source": [
    "#### Caso A"
   ]
  },
  {
   "cell_type": "code",
   "execution_count": 226,
   "metadata": {},
   "outputs": [
    {
     "name": "stdout",
     "output_type": "stream",
     "text": [
      "T1: 793.9267696312763 ºC\n",
      "T2: 699.380308893829 ºC\n",
      "Nº iteraciones: 32\n"
     ]
    }
   ],
   "source": [
    "seed = np.array([712,712])\n",
    "obj = np.array([695.15,10])\n",
    "metodo(seed,obj,J,tol)"
   ]
  },
  {
   "cell_type": "markdown",
   "metadata": {},
   "source": [
    "#### Caso B"
   ]
  },
  {
   "cell_type": "code",
   "execution_count": 227,
   "metadata": {},
   "outputs": [
    {
     "name": "stdout",
     "output_type": "stream",
     "text": [
      "T1: 769.0120237191966 ºC\n",
      "T2: 661.4360711575893 ºC\n",
      "Nº iteraciones: 29\n"
     ]
    }
   ],
   "source": [
    "seed = np.array([712,712])\n",
    "obj = np.array([656.8,10])\n",
    "metodo(seed,obj,J,tol)"
   ]
  },
  {
   "cell_type": "markdown",
   "metadata": {},
   "source": [
    "#### Caso C"
   ]
  },
  {
   "cell_type": "code",
   "execution_count": 228,
   "metadata": {},
   "outputs": [
    {
     "name": "stdout",
     "output_type": "stream",
     "text": [
      "T1: 801.7177182535504 ºC\n",
      "T2: 710.7531547606515 ºC\n",
      "Nº iteraciones: 35\n"
     ]
    }
   ],
   "source": [
    "seed = np.array([712,712])\n",
    "obj = np.array([706.8,10])\n",
    "metodo(seed,obj,J,tol)"
   ]
  },
  {
   "cell_type": "markdown",
   "metadata": {},
   "source": [
    "Conclusiones\n",
    "--------------------"
   ]
  }
 ],
 "metadata": {
  "kernelspec": {
   "display_name": "Python 3",
   "language": "python",
   "name": "python3"
  },
  "language_info": {
   "codemirror_mode": {
    "name": "ipython",
    "version": 3
   },
   "file_extension": ".py",
   "mimetype": "text/x-python",
   "name": "python",
   "nbconvert_exporter": "python",
   "pygments_lexer": "ipython3",
   "version": "3.6.5"
  }
 },
 "nbformat": 4,
 "nbformat_minor": 2
}
