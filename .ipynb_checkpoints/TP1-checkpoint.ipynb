{
 "cells": [
  {
   "cell_type": "code",
   "execution_count": 1,
   "metadata": {},
   "outputs": [],
   "source": [
    "import matplotlib.pyplot as plt"
   ]
  },
  {
   "cell_type": "code",
   "execution_count": 2,
   "metadata": {},
   "outputs": [],
   "source": [
    "import pandas as pd"
   ]
  },
  {
   "cell_type": "code",
   "execution_count": 3,
   "metadata": {},
   "outputs": [],
   "source": [
    "import numpy as np"
   ]
  },
  {
   "cell_type": "markdown",
   "metadata": {},
   "source": [
    "# Constantes"
   ]
  },
  {
   "cell_type": "code",
   "execution_count": 4,
   "metadata": {},
   "outputs": [],
   "source": [
    "k = 10\n",
    "L0 = 1.986\n",
    "m0 = 0.993\n",
    "a = 1\n",
    "grav = 9.81"
   ]
  },
  {
   "cell_type": "code",
   "execution_count": 5,
   "metadata": {},
   "outputs": [],
   "source": [
    "tolerancia = 0.5*(10**(-15)) #0,5 * 10exp(-15)"
   ]
  },
  {
   "cell_type": "markdown",
   "metadata": {},
   "source": [
    "# Funciones"
   ]
  },
  {
   "cell_type": "code",
   "execution_count": 6,
   "metadata": {},
   "outputs": [],
   "source": [
    "class Function:\n",
    "    coef = 1    \n",
    "    def __init__(self,c):\n",
    "        self.coef = c\n",
    "    def calc(self,x):\n",
    "        return f(x)-(m0*self.coef*grav)   \n",
    "class Function_g:\n",
    "    coef = 1    \n",
    "    def __init__(self,c):\n",
    "        self.coef = c\n",
    "    def calc(self,x):\n",
    "        return (-m0*self.coef*grav)/(2*k) + ((x*L0)/(np.sqrt(x**2+a**2))) "
   ]
  },
  {
   "cell_type": "code",
   "execution_count": 7,
   "metadata": {},
   "outputs": [],
   "source": [
    "def f (x):\n",
    "    return -2*k*x*(1-(L0)/np.sqrt(x**2+a**2))\n",
    "def f2 (x):\n",
    "    return -(6*a**2*k*L0*x)/((a**2 + x**2)**(5/2))\n",
    "#def f_m (x,coef):\n",
    "    #a = f(x)\n",
    "    #return (a)-(m0*coef*g)\n",
    "def der_f(x):\n",
    "    return ((-2*k*L0*x**2) / ((a**2+x**2)**(3/2))) - 2*k*(1-(L0/np.sqrt(a**2+x**2)))\n",
    "\n",
    "def g(x):\n",
    "    return (x*L0)/(np.sqrt(x**2+a**2))\n"
   ]
  },
  {
   "cell_type": "code",
   "execution_count": 8,
   "metadata": {},
   "outputs": [],
   "source": [
    "def nr (p0,f,der_f,max_iter,tol,true_root = \"None\"):\n",
    "    output = []\n",
    "    cols = [\"y\",\"$\\Delta y$\",\"$\\Delta y/y$\"]\n",
    "    c = True\n",
    "    i = 0\n",
    "    p = p0\n",
    "    while (c and (i<=max_iter) and (f(p)!= 0)):\n",
    "        old_p = p\n",
    "        p = p - f(p)/der_f(p)\n",
    "        output.append([old_p,np.abs(p-old_p),np.abs(p-old_p)/old_p])\n",
    "        c = (np.abs(p-old_p) >= tol) if (true_root == 'None') else (np.abs(p-true_root) >= tol)\n",
    "        i+=1\n",
    "    output.append([p,'-','-'])\n",
    "    df = pd.DataFrame(output)\n",
    "    df.columns = cols\n",
    "    return df\n",
    "        "
   ]
  },
  {
   "cell_type": "code",
   "execution_count": 9,
   "metadata": {},
   "outputs": [],
   "source": [
    "def biseccion (a,b,f,max_iter,tol,true_root = \"None\"):\n",
    "    cols = [\"a\",\"b\",\"f(a)\",\"f(b)\",\"r\",\"$\\Delta r$\",\"$\\Delta r/r$\"]\n",
    "    \n",
    "    #primera iteracion es \"especial\" y la hago fuera\n",
    "    r = (a+b)/2\n",
    "    output=[]\n",
    "    interval = f(a)*f(r)<0\n",
    "    b = r*interval+b*(~interval)\n",
    "    a = r*(~interval)+a*interval\n",
    "    #fin de la primera iteracion\n",
    "    \n",
    "    c= True\n",
    "    i=0\n",
    "    while (c and (i<=max_iter) and f(r)!=0 ):\n",
    "        old_r = r\n",
    "        r = (a+b)/2\n",
    "        \n",
    "        table_entry = [a,b,f(a),f(b),r,np.abs(r-old_r),0]\n",
    "        table_entry[6]=table_entry[5]/table_entry[4]\n",
    "        \n",
    "        if f(a)*f(r) < 0:\n",
    "            b=r\n",
    "        else:\n",
    "            a=r\n",
    "            \n",
    "        if (true_root == \"None\"):\n",
    "            c = (table_entry[5] >= tol)\n",
    "        else:\n",
    "            c = (np.abs(r-true_root) >= tol)\n",
    "        output.append(table_entry)\n",
    "        i+=1\n",
    "    df = pd.DataFrame(output)\n",
    "    df.columns = cols\n",
    "    return df;\n",
    "            "
   ]
  },
  {
   "cell_type": "code",
   "execution_count": 10,
   "metadata": {},
   "outputs": [],
   "source": [
    "def pfijo (p0,g,max_iter,tol,true_root='None'):\n",
    "    output = []\n",
    "    p = p0\n",
    "    i=0\n",
    "    c = True\n",
    "    while (c and (i<max_iter) and (g(p)!=p)):\n",
    "        old_p = p\n",
    "        p = g(p)\n",
    "        output.append([old_p,np.abs(p-old_p),np.abs(p-old_p)/old_p])\n",
    "        c = !(np.abs(p-true_root) < tol) if (true_root != 'None') else !(np.abs(p-old_p) < tol)\n",
    "        i+=1\n",
    "    output.append([p,'-','-'])\n",
    "    return pd.DataFrame(output).rename(columns=pd.Series(['y','$\\Delta y$','$\\Delta y/y$']))"
   ]
  },
  {
   "cell_type": "markdown",
   "metadata": {},
   "source": [
    "# Item 1"
   ]
  },
  {
   "cell_type": "code",
   "execution_count": 11,
   "metadata": {},
   "outputs": [],
   "source": [
    "bisec1 = biseccion(1,2,f,200,tolerancia,np.sqrt(L0**2-a**2))"
   ]
  },
  {
   "cell_type": "code",
   "execution_count": 12,
   "metadata": {},
   "outputs": [],
   "source": [
    "pd.set_option('precision',5)"
   ]
  },
  {
   "cell_type": "code",
   "execution_count": 13,
   "metadata": {
    "scrolled": true
   },
   "outputs": [
    {
     "name": "stdout",
     "output_type": "stream",
     "text": [
      "\\begin{longtable}{lrrrrrrr}\n",
      "\\toprule\n",
      "{} &        a &        b &         f(a) &         f(b) &        r &   $\\Delta r$ &  $\\Delta r/r$ \\\\\n",
      "\\midrule\n",
      "\\endhead\n",
      "\\midrule\n",
      "\\multicolumn{8}{r}{{Continued on next page}} \\\\\n",
      "\\midrule\n",
      "\\endfoot\n",
      "\n",
      "\\bottomrule\n",
      "\\endlastfoot\n",
      "0  &  1.50000 &  2.00000 &  3.04904e+00 & -4.47335e+00 &  1.75000 &  2.50000e-01 &   1.42857e-01 \\\\\n",
      "1  &  1.50000 &  1.75000 &  3.04904e+00 & -5.13382e-01 &  1.62500 &  1.25000e-01 &   7.69231e-02 \\\\\n",
      "2  &  1.62500 &  1.75000 &  1.32787e+00 & -5.13382e-01 &  1.68750 &  6.25000e-02 &   3.70370e-02 \\\\\n",
      "3  &  1.68750 &  1.75000 &  4.20780e-01 & -5.13382e-01 &  1.71875 &  3.12500e-02 &   1.81818e-02 \\\\\n",
      "4  &  1.68750 &  1.71875 &  4.20780e-01 & -4.30840e-02 &  1.70312 &  1.56250e-02 &   9.17431e-03 \\\\\n",
      "5  &  1.70312 &  1.71875 &  1.89672e-01 & -4.30840e-02 &  1.71094 &  7.81250e-03 &   4.56621e-03 \\\\\n",
      "6  &  1.71094 &  1.71875 &  7.34977e-02 & -4.30840e-02 &  1.71484 &  3.90625e-03 &   2.27790e-03 \\\\\n",
      "7  &  1.71484 &  1.71875 &  1.52574e-02 & -4.30840e-02 &  1.71680 &  1.95312e-03 &   1.13766e-03 \\\\\n",
      "8  &  1.71484 &  1.71680 &  1.52574e-02 & -1.39007e-02 &  1.71582 &  9.76562e-04 &   5.69152e-04 \\\\\n",
      "9  &  1.71582 &  1.71680 &  6.81508e-04 & -1.39007e-02 &  1.71631 &  4.88281e-04 &   2.84495e-04 \\\\\n",
      "39 &  1.71587 &  1.71587 &  2.31647e-12 & -1.12623e-11 &  1.71587 &  4.54747e-13 &   2.65025e-13 \\\\\n",
      "40 &  1.71587 &  1.71587 &  2.31647e-12 & -4.47293e-12 &  1.71587 &  2.27374e-13 &   1.32512e-13 \\\\\n",
      "41 &  1.71587 &  1.71587 &  2.31647e-12 & -1.07442e-12 &  1.71587 &  1.13687e-13 &   6.62562e-14 \\\\\n",
      "42 &  1.71587 &  1.71587 &  6.24838e-13 & -1.07442e-12 &  1.71587 &  5.68434e-14 &   3.31281e-14 \\\\\n",
      "43 &  1.71587 &  1.71587 &  6.24838e-13 & -2.24789e-13 &  1.71587 &  2.84217e-14 &   1.65641e-14 \\\\\n",
      "44 &  1.71587 &  1.71587 &  1.98119e-13 & -2.24789e-13 &  1.71587 &  1.42109e-14 &   8.28203e-15 \\\\\n",
      "45 &  1.71587 &  1.71587 &  1.98119e-13 & -1.52400e-14 &  1.71587 &  7.10543e-15 &   4.14102e-15 \\\\\n",
      "46 &  1.71587 &  1.71587 &  9.14397e-14 & -1.52400e-14 &  1.71587 &  3.55271e-15 &   2.07051e-15 \\\\\n",
      "47 &  1.71587 &  1.71587 &  3.80999e-14 & -1.52400e-14 &  1.71587 &  1.77636e-15 &   1.03525e-15 \\\\\n",
      "48 &  1.71587 &  1.71587 &  1.52400e-14 & -1.52400e-14 &  1.71587 &  8.88178e-16 &   5.17627e-16 \\\\\n",
      "\\end{longtable}\n",
      "\n"
     ]
    }
   ],
   "source": [
    "print(pd.concat([bisec1.head(10),bisec1.tail(10)]).to_latex(longtable=True,escape=False))"
   ]
  },
  {
   "cell_type": "code",
   "execution_count": 14,
   "metadata": {},
   "outputs": [],
   "source": [
    "nr1 = nr(der_f=der_f,f=f,p0=2,tol=tolerancia,true_root=np.sqrt(L0**2-a**2),max_iter=30)"
   ]
  },
  {
   "cell_type": "code",
   "execution_count": 15,
   "metadata": {},
   "outputs": [
    {
     "name": "stdout",
     "output_type": "stream",
     "text": [
      "\\begin{longtable}{lrll}\n",
      "\\toprule\n",
      "{} &               y &         $\\Delta y$ &       $\\Delta y/y$ \\\\\n",
      "\\midrule\n",
      "\\endhead\n",
      "\\midrule\n",
      "\\multicolumn{4}{r}{{Continued on next page}} \\\\\n",
      "\\midrule\n",
      "\\endfoot\n",
      "\n",
      "\\bottomrule\n",
      "\\endlastfoot\n",
      "0 &  2.000000000000 &     0.271980349388 &     0.135990174694 \\\\\n",
      "1 &  1.728019650612 &    0.0121215400159 &   0.00701470033145 \\\\\n",
      "2 &  1.715898110596 &  3.21482355439e-05 &  1.87355154396e-05 \\\\\n",
      "3 &  1.715865962360 &  2.29059882173e-10 &    1.334952072e-10 \\\\\n",
      "4 &  1.715865962131 &                  - &                  - \\\\\n",
      "\\end{longtable}\n",
      "\n"
     ]
    }
   ],
   "source": [
    "pd.set_option('precision',12)\n",
    "print(nr1.to_latex(longtable=True,escape=False))"
   ]
  },
  {
   "cell_type": "code",
   "execution_count": 16,
   "metadata": {},
   "outputs": [],
   "source": [
    "pf1 = pfijo(1.5,g,200,tolerancia,true_root=np.sqrt(L0**2-a**2))"
   ]
  },
  {
   "cell_type": "code",
   "execution_count": 17,
   "metadata": {},
   "outputs": [],
   "source": [
    "pd.set_option('precision',7)"
   ]
  },
  {
   "cell_type": "code",
   "execution_count": 18,
   "metadata": {
    "scrolled": true
   },
   "outputs": [
    {
     "name": "stdout",
     "output_type": "stream",
     "text": [
      "\\begin{longtable}{lrll}\n",
      "\\toprule\n",
      "{} &          y &    $\\Delta y$ &  $\\Delta y/y$ \\\\\n",
      "\\midrule\n",
      "\\endhead\n",
      "\\midrule\n",
      "\\multicolumn{4}{r}{{Continued on next page}} \\\\\n",
      "\\midrule\n",
      "\\endfoot\n",
      "\n",
      "\\bottomrule\n",
      "\\endlastfoot\n",
      "0  &  1.5000000 &     0.1524519 &     0.1016346 \\\\\n",
      "1  &  1.6524519 &     0.0466479 &    0.02822951 \\\\\n",
      "2  &  1.6990998 &     0.0124684 &   0.007338241 \\\\\n",
      "3  &  1.7115682 &   0.003205065 &    0.00187259 \\\\\n",
      "4  &  1.7147733 &  0.0008154681 &  0.0004755545 \\\\\n",
      "5  &  1.7155887 &  0.0002069363 &  0.0001206212 \\\\\n",
      "6  &  1.7157957 &  5.247794e-05 &  3.058519e-05 \\\\\n",
      "7  &  1.7158481 &  1.330587e-05 &   7.75469e-06 \\\\\n",
      "8  &  1.7158614 &  3.373581e-06 &  1.966115e-06 \\\\\n",
      "9  &  1.7158648 &  8.553311e-07 &  4.984839e-07 \\\\\n",
      "10 &  1.7158657 &  2.168584e-07 &  1.263842e-07 \\\\\n",
      "11 &  1.7158659 &  5.498165e-08 &  3.204309e-08 \\\\\n",
      "12 &  1.7158659 &  1.393989e-08 &  8.124113e-09 \\\\\n",
      "13 &  1.7158660 &  3.534279e-09 &  2.059764e-09 \\\\\n",
      "14 &  1.7158660 &  8.960708e-10 &  5.222266e-10 \\\\\n",
      "15 &  1.7158660 &  2.271872e-10 &  1.324038e-10 \\\\\n",
      "16 &  1.7158660 &  5.760037e-11 &  3.356927e-11 \\\\\n",
      "17 &  1.7158660 &  1.460387e-11 &  8.511081e-12 \\\\\n",
      "18 &  1.7158660 &  3.702594e-12 &  2.157857e-12 \\\\\n",
      "19 &  1.7158660 &  9.385825e-13 &  5.470023e-13 \\\\\n",
      "20 &  1.7158660 &  2.380318e-13 &   1.38724e-13 \\\\\n",
      "21 &  1.7158660 &  6.039613e-14 &  3.519863e-14 \\\\\n",
      "22 &  1.7158660 &  1.532108e-14 &  8.929064e-15 \\\\\n",
      "23 &  1.7158660 &  3.996803e-15 &  2.329321e-15 \\\\\n",
      "24 &  1.7158660 &  8.881784e-16 &  5.176269e-16 \\\\\n",
      "25 &  1.7158660 &             - &             - \\\\\n",
      "\\end{longtable}\n",
      "\n"
     ]
    }
   ],
   "source": [
    "print(pf1.to_latex(longtable=True,escape=False))"
   ]
  },
  {
   "cell_type": "markdown",
   "metadata": {},
   "source": [
    "#### Punto fijo no converge porque la 'g' usada no tiene |g'| < 1 en un intervalo que contiene al punto fijo, tenemos que usar una g distinta a la que dice el enunciado."
   ]
  },
  {
   "cell_type": "code",
   "execution_count": 19,
   "metadata": {},
   "outputs": [],
   "source": [
    "import seaborn as sns"
   ]
  },
  {
   "cell_type": "code",
   "execution_count": 26,
   "metadata": {
    "scrolled": false
   },
   "outputs": [
    {
     "ename": "DataError",
     "evalue": "No numeric types to aggregate",
     "output_type": "error",
     "traceback": [
      "\u001b[0;31m---------------------------------------------------------------------------\u001b[0m",
      "\u001b[0;31mDataError\u001b[0m                                 Traceback (most recent call last)",
      "\u001b[0;32m<ipython-input-26-f7b2d43380e6>\u001b[0m in \u001b[0;36m<module>\u001b[0;34m()\u001b[0m\n\u001b[1;32m      1\u001b[0m \u001b[0msns\u001b[0m\u001b[0;34m.\u001b[0m\u001b[0mset\u001b[0m\u001b[0;34m(\u001b[0m\u001b[0;34m)\u001b[0m\u001b[0;34m\u001b[0m\u001b[0;34m\u001b[0m\u001b[0m\n\u001b[1;32m      2\u001b[0m \u001b[0mfig\u001b[0m\u001b[0;34m,\u001b[0m\u001b[0max\u001b[0m\u001b[0;34m=\u001b[0m\u001b[0mplt\u001b[0m\u001b[0;34m.\u001b[0m\u001b[0msubplots\u001b[0m\u001b[0;34m(\u001b[0m\u001b[0mfigsize\u001b[0m\u001b[0;34m=\u001b[0m\u001b[0;34m(\u001b[0m\u001b[0;36m10\u001b[0m\u001b[0;34m,\u001b[0m\u001b[0;36m5\u001b[0m\u001b[0;34m)\u001b[0m\u001b[0;34m)\u001b[0m\u001b[0;34m\u001b[0m\u001b[0;34m\u001b[0m\u001b[0m\n\u001b[0;32m----> 3\u001b[0;31m \u001b[0msns\u001b[0m\u001b[0;34m.\u001b[0m\u001b[0mlineplot\u001b[0m\u001b[0;34m(\u001b[0m\u001b[0max\u001b[0m\u001b[0;34m=\u001b[0m\u001b[0max\u001b[0m\u001b[0;34m,\u001b[0m\u001b[0mdata\u001b[0m\u001b[0;34m=\u001b[0m\u001b[0mnr1\u001b[0m\u001b[0;34m[\u001b[0m\u001b[0;34m\"$\\Delta y$\"\u001b[0m\u001b[0;34m]\u001b[0m\u001b[0;34m,\u001b[0m\u001b[0mlabel\u001b[0m\u001b[0;34m=\u001b[0m\u001b[0;34m'Newton-Raphson'\u001b[0m\u001b[0;34m)\u001b[0m\u001b[0;34m\u001b[0m\u001b[0;34m\u001b[0m\u001b[0m\n\u001b[0m\u001b[1;32m      4\u001b[0m \u001b[0msns\u001b[0m\u001b[0;34m.\u001b[0m\u001b[0mlineplot\u001b[0m\u001b[0;34m(\u001b[0m\u001b[0max\u001b[0m\u001b[0;34m=\u001b[0m\u001b[0max\u001b[0m\u001b[0;34m,\u001b[0m\u001b[0mdata\u001b[0m\u001b[0;34m=\u001b[0m\u001b[0mbisec1\u001b[0m\u001b[0;34m[\u001b[0m\u001b[0;34m'\\Delta r'\u001b[0m\u001b[0;34m]\u001b[0m\u001b[0;34m.\u001b[0m\u001b[0mastype\u001b[0m\u001b[0;34m(\u001b[0m\u001b[0mfloat\u001b[0m\u001b[0;34m)\u001b[0m\u001b[0;34m,\u001b[0m\u001b[0mlabel\u001b[0m\u001b[0;34m=\u001b[0m\u001b[0;34m'Bisección'\u001b[0m\u001b[0;34m)\u001b[0m\u001b[0;34m\u001b[0m\u001b[0;34m\u001b[0m\u001b[0m\n\u001b[1;32m      5\u001b[0m \u001b[0msns\u001b[0m\u001b[0;34m.\u001b[0m\u001b[0mlineplot\u001b[0m\u001b[0;34m(\u001b[0m\u001b[0max\u001b[0m\u001b[0;34m=\u001b[0m\u001b[0max\u001b[0m\u001b[0;34m,\u001b[0m\u001b[0mdata\u001b[0m\u001b[0;34m=\u001b[0m\u001b[0mpf1\u001b[0m\u001b[0;34m[\u001b[0m\u001b[0;34m'\\Delta y'\u001b[0m\u001b[0;34m]\u001b[0m\u001b[0;34m.\u001b[0m\u001b[0mastype\u001b[0m\u001b[0;34m(\u001b[0m\u001b[0mfloat\u001b[0m\u001b[0;34m)\u001b[0m\u001b[0;34m,\u001b[0m\u001b[0mlabel\u001b[0m\u001b[0;34m=\u001b[0m\u001b[0;34m'Punto Fijo'\u001b[0m\u001b[0;34m)\u001b[0m\u001b[0;34m\u001b[0m\u001b[0;34m\u001b[0m\u001b[0m\n",
      "\u001b[0;32m~/anaconda3/lib/python3.6/site-packages/seaborn/relational.py\u001b[0m in \u001b[0;36mlineplot\u001b[0;34m(x, y, hue, size, style, data, palette, hue_order, hue_norm, sizes, size_order, size_norm, dashes, markers, style_order, units, estimator, ci, n_boot, sort, err_style, err_kws, legend, ax, **kwargs)\u001b[0m\n\u001b[1;32m   1082\u001b[0m         \u001b[0max\u001b[0m \u001b[0;34m=\u001b[0m \u001b[0mplt\u001b[0m\u001b[0;34m.\u001b[0m\u001b[0mgca\u001b[0m\u001b[0;34m(\u001b[0m\u001b[0;34m)\u001b[0m\u001b[0;34m\u001b[0m\u001b[0;34m\u001b[0m\u001b[0m\n\u001b[1;32m   1083\u001b[0m \u001b[0;34m\u001b[0m\u001b[0m\n\u001b[0;32m-> 1084\u001b[0;31m     \u001b[0mp\u001b[0m\u001b[0;34m.\u001b[0m\u001b[0mplot\u001b[0m\u001b[0;34m(\u001b[0m\u001b[0max\u001b[0m\u001b[0;34m,\u001b[0m \u001b[0mkwargs\u001b[0m\u001b[0;34m)\u001b[0m\u001b[0;34m\u001b[0m\u001b[0;34m\u001b[0m\u001b[0m\n\u001b[0m\u001b[1;32m   1085\u001b[0m \u001b[0;34m\u001b[0m\u001b[0m\n\u001b[1;32m   1086\u001b[0m     \u001b[0;32mreturn\u001b[0m \u001b[0max\u001b[0m\u001b[0;34m\u001b[0m\u001b[0;34m\u001b[0m\u001b[0m\n",
      "\u001b[0;32m~/anaconda3/lib/python3.6/site-packages/seaborn/relational.py\u001b[0m in \u001b[0;36mplot\u001b[0;34m(self, ax, kws)\u001b[0m\n\u001b[1;32m    773\u001b[0m                     \u001b[0merr\u001b[0m \u001b[0;34m=\u001b[0m \u001b[0;34m\"estimator must be None when specifying units\"\u001b[0m\u001b[0;34m\u001b[0m\u001b[0;34m\u001b[0m\u001b[0m\n\u001b[1;32m    774\u001b[0m                     \u001b[0;32mraise\u001b[0m \u001b[0mValueError\u001b[0m\u001b[0;34m(\u001b[0m\u001b[0merr\u001b[0m\u001b[0;34m)\u001b[0m\u001b[0;34m\u001b[0m\u001b[0;34m\u001b[0m\u001b[0m\n\u001b[0;32m--> 775\u001b[0;31m                 \u001b[0mx\u001b[0m\u001b[0;34m,\u001b[0m \u001b[0my\u001b[0m\u001b[0;34m,\u001b[0m \u001b[0my_ci\u001b[0m \u001b[0;34m=\u001b[0m \u001b[0mself\u001b[0m\u001b[0;34m.\u001b[0m\u001b[0maggregate\u001b[0m\u001b[0;34m(\u001b[0m\u001b[0my\u001b[0m\u001b[0;34m,\u001b[0m \u001b[0mx\u001b[0m\u001b[0;34m,\u001b[0m \u001b[0munits\u001b[0m\u001b[0;34m)\u001b[0m\u001b[0;34m\u001b[0m\u001b[0;34m\u001b[0m\u001b[0m\n\u001b[0m\u001b[1;32m    776\u001b[0m             \u001b[0;32melse\u001b[0m\u001b[0;34m:\u001b[0m\u001b[0;34m\u001b[0m\u001b[0;34m\u001b[0m\u001b[0m\n\u001b[1;32m    777\u001b[0m                 \u001b[0my_ci\u001b[0m \u001b[0;34m=\u001b[0m \u001b[0;32mNone\u001b[0m\u001b[0;34m\u001b[0m\u001b[0;34m\u001b[0m\u001b[0m\n",
      "\u001b[0;32m~/anaconda3/lib/python3.6/site-packages/seaborn/relational.py\u001b[0m in \u001b[0;36maggregate\u001b[0;34m(self, vals, grouper, units)\u001b[0m\n\u001b[1;32m    703\u001b[0m         \u001b[0;31m# Group and get the aggregation estimate\u001b[0m\u001b[0;34m\u001b[0m\u001b[0;34m\u001b[0m\u001b[0;34m\u001b[0m\u001b[0m\n\u001b[1;32m    704\u001b[0m         \u001b[0mgrouped\u001b[0m \u001b[0;34m=\u001b[0m \u001b[0mvals\u001b[0m\u001b[0;34m.\u001b[0m\u001b[0mgroupby\u001b[0m\u001b[0;34m(\u001b[0m\u001b[0mgrouper\u001b[0m\u001b[0;34m,\u001b[0m \u001b[0msort\u001b[0m\u001b[0;34m=\u001b[0m\u001b[0mself\u001b[0m\u001b[0;34m.\u001b[0m\u001b[0msort\u001b[0m\u001b[0;34m)\u001b[0m\u001b[0;34m\u001b[0m\u001b[0;34m\u001b[0m\u001b[0m\n\u001b[0;32m--> 705\u001b[0;31m         \u001b[0mest\u001b[0m \u001b[0;34m=\u001b[0m \u001b[0mgrouped\u001b[0m\u001b[0;34m.\u001b[0m\u001b[0magg\u001b[0m\u001b[0;34m(\u001b[0m\u001b[0mfunc\u001b[0m\u001b[0;34m)\u001b[0m\u001b[0;34m\u001b[0m\u001b[0;34m\u001b[0m\u001b[0m\n\u001b[0m\u001b[1;32m    706\u001b[0m \u001b[0;34m\u001b[0m\u001b[0m\n\u001b[1;32m    707\u001b[0m         \u001b[0;31m# Exit early if we don't want a confidence interval\u001b[0m\u001b[0;34m\u001b[0m\u001b[0;34m\u001b[0m\u001b[0;34m\u001b[0m\u001b[0m\n",
      "\u001b[0;32m~/anaconda3/lib/python3.6/site-packages/pandas/core/groupby/groupby.py\u001b[0m in \u001b[0;36maggregate\u001b[0;34m(self, func_or_funcs, *args, **kwargs)\u001b[0m\n\u001b[1;32m   3477\u001b[0m         \u001b[0m_level\u001b[0m \u001b[0;34m=\u001b[0m \u001b[0mkwargs\u001b[0m\u001b[0;34m.\u001b[0m\u001b[0mpop\u001b[0m\u001b[0;34m(\u001b[0m\u001b[0;34m'_level'\u001b[0m\u001b[0;34m,\u001b[0m \u001b[0;32mNone\u001b[0m\u001b[0;34m)\u001b[0m\u001b[0;34m\u001b[0m\u001b[0;34m\u001b[0m\u001b[0m\n\u001b[1;32m   3478\u001b[0m         \u001b[0;32mif\u001b[0m \u001b[0misinstance\u001b[0m\u001b[0;34m(\u001b[0m\u001b[0mfunc_or_funcs\u001b[0m\u001b[0;34m,\u001b[0m \u001b[0mcompat\u001b[0m\u001b[0;34m.\u001b[0m\u001b[0mstring_types\u001b[0m\u001b[0;34m)\u001b[0m\u001b[0;34m:\u001b[0m\u001b[0;34m\u001b[0m\u001b[0;34m\u001b[0m\u001b[0m\n\u001b[0;32m-> 3479\u001b[0;31m             \u001b[0;32mreturn\u001b[0m \u001b[0mgetattr\u001b[0m\u001b[0;34m(\u001b[0m\u001b[0mself\u001b[0m\u001b[0;34m,\u001b[0m \u001b[0mfunc_or_funcs\u001b[0m\u001b[0;34m)\u001b[0m\u001b[0;34m(\u001b[0m\u001b[0;34m*\u001b[0m\u001b[0margs\u001b[0m\u001b[0;34m,\u001b[0m \u001b[0;34m**\u001b[0m\u001b[0mkwargs\u001b[0m\u001b[0;34m)\u001b[0m\u001b[0;34m\u001b[0m\u001b[0;34m\u001b[0m\u001b[0m\n\u001b[0m\u001b[1;32m   3480\u001b[0m \u001b[0;34m\u001b[0m\u001b[0m\n\u001b[1;32m   3481\u001b[0m         \u001b[0;32mif\u001b[0m \u001b[0misinstance\u001b[0m\u001b[0;34m(\u001b[0m\u001b[0mfunc_or_funcs\u001b[0m\u001b[0;34m,\u001b[0m \u001b[0mcollections\u001b[0m\u001b[0;34m.\u001b[0m\u001b[0mIterable\u001b[0m\u001b[0;34m)\u001b[0m\u001b[0;34m:\u001b[0m\u001b[0;34m\u001b[0m\u001b[0;34m\u001b[0m\u001b[0m\n",
      "\u001b[0;32m~/anaconda3/lib/python3.6/site-packages/pandas/core/groupby/groupby.py\u001b[0m in \u001b[0;36mmean\u001b[0;34m(self, *args, **kwargs)\u001b[0m\n\u001b[1;32m   1304\u001b[0m         \u001b[0mnv\u001b[0m\u001b[0;34m.\u001b[0m\u001b[0mvalidate_groupby_func\u001b[0m\u001b[0;34m(\u001b[0m\u001b[0;34m'mean'\u001b[0m\u001b[0;34m,\u001b[0m \u001b[0margs\u001b[0m\u001b[0;34m,\u001b[0m \u001b[0mkwargs\u001b[0m\u001b[0;34m,\u001b[0m \u001b[0;34m[\u001b[0m\u001b[0;34m'numeric_only'\u001b[0m\u001b[0;34m]\u001b[0m\u001b[0;34m)\u001b[0m\u001b[0;34m\u001b[0m\u001b[0;34m\u001b[0m\u001b[0m\n\u001b[1;32m   1305\u001b[0m         \u001b[0;32mtry\u001b[0m\u001b[0;34m:\u001b[0m\u001b[0;34m\u001b[0m\u001b[0;34m\u001b[0m\u001b[0m\n\u001b[0;32m-> 1306\u001b[0;31m             \u001b[0;32mreturn\u001b[0m \u001b[0mself\u001b[0m\u001b[0;34m.\u001b[0m\u001b[0m_cython_agg_general\u001b[0m\u001b[0;34m(\u001b[0m\u001b[0;34m'mean'\u001b[0m\u001b[0;34m,\u001b[0m \u001b[0;34m**\u001b[0m\u001b[0mkwargs\u001b[0m\u001b[0;34m)\u001b[0m\u001b[0;34m\u001b[0m\u001b[0;34m\u001b[0m\u001b[0m\n\u001b[0m\u001b[1;32m   1307\u001b[0m         \u001b[0;32mexcept\u001b[0m \u001b[0mGroupByError\u001b[0m\u001b[0;34m:\u001b[0m\u001b[0;34m\u001b[0m\u001b[0;34m\u001b[0m\u001b[0m\n\u001b[1;32m   1308\u001b[0m             \u001b[0;32mraise\u001b[0m\u001b[0;34m\u001b[0m\u001b[0;34m\u001b[0m\u001b[0m\n",
      "\u001b[0;32m~/anaconda3/lib/python3.6/site-packages/pandas/core/groupby/groupby.py\u001b[0m in \u001b[0;36m_cython_agg_general\u001b[0;34m(self, how, alt, numeric_only, min_count)\u001b[0m\n\u001b[1;32m   1054\u001b[0m \u001b[0;34m\u001b[0m\u001b[0m\n\u001b[1;32m   1055\u001b[0m         \u001b[0;32mif\u001b[0m \u001b[0mlen\u001b[0m\u001b[0;34m(\u001b[0m\u001b[0moutput\u001b[0m\u001b[0;34m)\u001b[0m \u001b[0;34m==\u001b[0m \u001b[0;36m0\u001b[0m\u001b[0;34m:\u001b[0m\u001b[0;34m\u001b[0m\u001b[0;34m\u001b[0m\u001b[0m\n\u001b[0;32m-> 1056\u001b[0;31m             \u001b[0;32mraise\u001b[0m \u001b[0mDataError\u001b[0m\u001b[0;34m(\u001b[0m\u001b[0;34m'No numeric types to aggregate'\u001b[0m\u001b[0;34m)\u001b[0m\u001b[0;34m\u001b[0m\u001b[0;34m\u001b[0m\u001b[0m\n\u001b[0m\u001b[1;32m   1057\u001b[0m \u001b[0;34m\u001b[0m\u001b[0m\n\u001b[1;32m   1058\u001b[0m         \u001b[0;32mreturn\u001b[0m \u001b[0mself\u001b[0m\u001b[0;34m.\u001b[0m\u001b[0m_wrap_aggregated_output\u001b[0m\u001b[0;34m(\u001b[0m\u001b[0moutput\u001b[0m\u001b[0;34m,\u001b[0m \u001b[0mnames\u001b[0m\u001b[0;34m)\u001b[0m\u001b[0;34m\u001b[0m\u001b[0;34m\u001b[0m\u001b[0m\n",
      "\u001b[0;31mDataError\u001b[0m: No numeric types to aggregate"
     ]
    },
    {
     "data": {
      "image/png": "[encoded data removed]",
      "text/plain": [
       "<Figure size 720x360 with 1 Axes>"
      ]
     },
     "metadata": {},
     "output_type": "display_data"
    }
   ],
   "source": [
    "sns.set()\n",
    "fig,ax=plt.subplots(figsize=(10,5))\n",
    "sns.lineplot(ax=ax,data=nr1[\"\\Delta y\"],label='Newton-Raphson')\n",
    "sns.lineplot(ax=ax,data=bisec1['\\Delta r'].astype(float),label='Bisección')\n",
    "sns.lineplot(ax=ax,data=pf1['\\Delta y'].astype(float),label='Punto Fijo')\n",
    "plt.title('Diferencia entre iteraciones segun numero de iteración')\n",
    "plt.xlabel('# Iteración')\n",
    "plt.ylabel('Diferencia entre iteraciones')\n",
    "plt.show()"
   ]
  },
  {
   "cell_type": "markdown",
   "metadata": {},
   "source": [
    "### No se puede tomar dos iteraciones consecutivas como cota del error absoluto de truncamiento, el error absoluto puede ser mayor a la diferencia entre dos iteraciones consecutivas."
   ]
  },
  {
   "cell_type": "markdown",
   "metadata": {},
   "source": [
    "## Item 2"
   ]
  },
  {
   "cell_type": "code",
   "execution_count": 27,
   "metadata": {},
   "outputs": [
    {
     "data": {
      "text/plain": [
       "[<matplotlib.lines.Line2D at 0x7f956b1047f0>]"
      ]
     },
     "execution_count": 27,
     "metadata": {},
     "output_type": "execute_result"
    },
    {
     "data": {
      "image/png": "[encoded data removed]",
      "text/plain": [
       "<Figure size 432x288 with 1 Axes>"
      ]
     },
     "metadata": {},
     "output_type": "display_data"
    }
   ],
   "source": [
    "plt.plot(Function(0.3).calc(np.arange(-3,3,0.00001)))"
   ]
  },
  {
   "cell_type": "markdown",
   "metadata": {},
   "source": [
    "### Biseccion"
   ]
  },
  {
   "cell_type": "code",
   "execution_count": 28,
   "metadata": {},
   "outputs": [],
   "source": [
    "pd.set_option('precision',5)"
   ]
  },
  {
   "cell_type": "code",
   "execution_count": 29,
   "metadata": {},
   "outputs": [],
   "source": [
    "bisec1=biseccion(a=-3,b=0,f=Function(0.3).calc,max_iter=200,tol=tolerancia)"
   ]
  },
  {
   "cell_type": "code",
   "execution_count": 30,
   "metadata": {
    "scrolled": true
   },
   "outputs": [
    {
     "name": "stdout",
     "output_type": "stream",
     "text": [
      "\\begin{longtable}{lrrrrrrr}\n",
      "\\toprule\n",
      "{} &        a &        b &         f(a) &         f(b) &        r &   $\\Delta r$ &  $\\Delta r/r$ \\\\\n",
      "\\midrule\n",
      "\\endhead\n",
      "\\midrule\n",
      "\\multicolumn{8}{r}{{Continued on next page}} \\\\\n",
      "\\midrule\n",
      "\\endfoot\n",
      "\n",
      "\\bottomrule\n",
      "\\endlastfoot\n",
      "0  & -3.00000 & -1.50000 &  1.93959e+01 & -5.97144e+00 & -2.25000 &  7.50000e-01 &  -3.33333e-01 \\\\\n",
      "1  & -2.25000 & -1.50000 &  5.78101e+00 & -5.97144e+00 & -1.87500 &  3.75000e-01 &  -2.00000e-01 \\\\\n",
      "2  & -2.25000 & -1.87500 &  5.78101e+00 & -4.69458e-01 & -2.06250 &  1.87500e-01 &  -9.09091e-02 \\\\\n",
      "3  & -2.06250 & -1.87500 &  2.58698e+00 & -4.69458e-01 & -1.96875 &  9.37500e-02 &  -4.76190e-02 \\\\\n",
      "4  & -1.96875 & -1.87500 &  1.03909e+00 & -4.69458e-01 & -1.92188 &  4.68750e-02 &  -2.43902e-02 \\\\\n",
      "5  & -1.92188 & -1.87500 &  2.79541e-01 & -4.69458e-01 & -1.89844 &  2.34375e-02 &  -1.23457e-02 \\\\\n",
      "6  & -1.92188 & -1.89844 &  2.79541e-01 & -9.63246e-02 & -1.91016 &  1.17188e-02 &  -6.13497e-03 \\\\\n",
      "7  & -1.91016 & -1.89844 &  9.12728e-02 & -9.63246e-02 & -1.90430 &  5.85938e-03 &  -3.07692e-03 \\\\\n",
      "8  & -1.91016 & -1.90430 &  9.12728e-02 & -2.61050e-03 & -1.90723 &  2.92969e-03 &  -1.53610e-03 \\\\\n",
      "9  & -1.90723 & -1.90430 &  4.43101e-02 & -2.61050e-03 & -1.90576 &  1.46484e-03 &  -7.68640e-04 \\\\\n",
      "42 & -1.90446 & -1.90446 &  4.22773e-13 & -5.03997e-12 & -1.90446 &  1.70530e-13 &  -8.95426e-14 \\\\\n",
      "43 & -1.90446 & -1.90446 &  4.22773e-13 & -2.30838e-12 & -1.90446 &  8.52651e-14 &  -4.47713e-14 \\\\\n",
      "44 & -1.90446 & -1.90446 &  4.22773e-13 & -9.42801e-13 & -1.90446 &  4.26326e-14 &  -2.23856e-14 \\\\\n",
      "45 & -1.90446 & -1.90446 &  4.22773e-13 & -2.60236e-13 & -1.90446 &  2.13163e-14 &  -1.11928e-14 \\\\\n",
      "46 & -1.90446 & -1.90446 &  7.72715e-14 & -2.60236e-13 & -1.90446 &  1.06581e-14 &  -5.59641e-15 \\\\\n",
      "47 & -1.90446 & -1.90446 &  7.72715e-14 & -9.14824e-14 & -1.90446 &  5.32907e-15 &  -2.79821e-15 \\\\\n",
      "48 & -1.90446 & -1.90446 &  7.72715e-14 & -1.15463e-14 & -1.90446 &  2.66454e-15 &  -1.39910e-15 \\\\\n",
      "49 & -1.90446 & -1.90446 &  3.90799e-14 & -1.15463e-14 & -1.90446 &  1.33227e-15 &  -6.99551e-16 \\\\\n",
      "50 & -1.90446 & -1.90446 &  1.19904e-14 & -1.15463e-14 & -1.90446 &  6.66134e-16 &  -3.49776e-16 \\\\\n",
      "51 & -1.90446 & -1.90446 &  6.66134e-15 & -1.15463e-14 & -1.90446 &  2.22045e-16 &  -1.16592e-16 \\\\\n",
      "\\end{longtable}\n",
      "\n"
     ]
    }
   ],
   "source": [
    "print(pd.concat([bisec1.head(10),bisec1.tail(10)]).to_latex(longtable=True,escape=False))"
   ]
  },
  {
   "cell_type": "code",
   "execution_count": 31,
   "metadata": {},
   "outputs": [],
   "source": [
    "bisec2=biseccion(a=0,b=1,f=Function(0.3).calc,max_iter=200,tol=tolerancia)"
   ]
  },
  {
   "cell_type": "code",
   "execution_count": 32,
   "metadata": {
    "scrolled": true
   },
   "outputs": [
    {
     "name": "stdout",
     "output_type": "stream",
     "text": [
      "\\begin{longtable}{lrrrrrrr}\n",
      "\\toprule\n",
      "{} &        a &        b &         f(a) &         f(b) &        r &   $\\Delta r$ &  $\\Delta r/r$ \\\\\n",
      "\\midrule\n",
      "\\endhead\n",
      "\\midrule\n",
      "\\multicolumn{8}{r}{{Continued on next page}} \\\\\n",
      "\\midrule\n",
      "\\endfoot\n",
      "\n",
      "\\bottomrule\n",
      "\\endlastfoot\n",
      "0  &  0.00000 &  0.50000 & -2.92240e+00 &  4.84093e+00 &  0.25000 &  2.50000e-01 &   1.00000e+00 \\\\\n",
      "1  &  0.00000 &  0.25000 & -2.92240e+00 &  1.71112e+00 &  0.12500 &  1.25000e-01 &   1.00000e+00 \\\\\n",
      "2  &  0.12500 &  0.25000 & -4.95739e-01 &  1.71112e+00 &  0.18750 &  6.25000e-02 &   3.33333e-01 \\\\\n",
      "3  &  0.12500 &  0.18750 & -4.95739e-01 &  6.47542e-01 &  0.15625 &  3.12500e-02 &   2.00000e-01 \\\\\n",
      "4  &  0.12500 &  0.15625 & -4.95739e-01 &  8.44507e-02 &  0.14062 &  1.56250e-02 &   1.11111e-01 \\\\\n",
      "5  &  0.14062 &  0.15625 & -2.03697e-01 &  8.44507e-02 &  0.14844 &  7.81250e-03 &   5.26316e-02 \\\\\n",
      "6  &  0.14844 &  0.15625 & -5.91121e-02 &  8.44507e-02 &  0.15234 &  3.90625e-03 &   2.56410e-02 \\\\\n",
      "7  &  0.14844 &  0.15234 & -5.91121e-02 &  1.28001e-02 &  0.15039 &  1.95312e-03 &   1.29870e-02 \\\\\n",
      "8  &  0.15039 &  0.15234 & -2.31237e-02 &  1.28001e-02 &  0.15137 &  9.76562e-04 &   6.45161e-03 \\\\\n",
      "9  &  0.15137 &  0.15234 & -5.15367e-03 &  1.28001e-02 &  0.15186 &  4.88281e-04 &   3.21543e-03 \\\\\n",
      "40 &  0.15165 &  0.15165 & -7.30571e-12 &  1.05649e-12 &  0.15165 &  2.27374e-13 &   1.49936e-12 \\\\\n",
      "41 &  0.15165 &  0.15165 & -3.12550e-12 &  1.05649e-12 &  0.15165 &  1.13687e-13 &   7.49679e-13 \\\\\n",
      "42 &  0.15165 &  0.15165 & -1.03340e-12 &  1.05649e-12 &  0.15165 &  5.68434e-14 &   3.74839e-13 \\\\\n",
      "43 &  0.15165 &  0.15165 & -1.03340e-12 &  1.06581e-14 &  0.15165 &  2.84217e-14 &   1.87420e-13 \\\\\n",
      "44 &  0.15165 &  0.15165 & -5.12035e-13 &  1.06581e-14 &  0.15165 &  1.42109e-14 &   9.37098e-14 \\\\\n",
      "45 &  0.15165 &  0.15165 & -2.50910e-13 &  1.06581e-14 &  0.15165 &  7.10543e-15 &   4.68549e-14 \\\\\n",
      "46 &  0.15165 &  0.15165 & -1.19460e-13 &  1.06581e-14 &  0.15165 &  3.55271e-15 &   2.34275e-14 \\\\\n",
      "47 &  0.15165 &  0.15165 & -5.37348e-14 &  1.06581e-14 &  0.15165 &  1.77636e-15 &   1.17137e-14 \\\\\n",
      "48 &  0.15165 &  0.15165 & -2.22045e-14 &  1.06581e-14 &  0.15165 &  8.88178e-16 &   5.85686e-15 \\\\\n",
      "49 &  0.15165 &  0.15165 & -4.88498e-15 &  1.06581e-14 &  0.15165 &  4.44089e-16 &   2.92843e-15 \\\\\n",
      "\\end{longtable}\n",
      "\n"
     ]
    }
   ],
   "source": [
    "print(pd.concat([bisec2.head(10),bisec2.tail(10)]).to_latex(longtable=True,escape=False))"
   ]
  },
  {
   "cell_type": "code",
   "execution_count": 33,
   "metadata": {},
   "outputs": [],
   "source": [
    "bisec3=biseccion(a=1,b=2,f=Function(0.3).calc,max_iter=200,tol=tolerancia)"
   ]
  },
  {
   "cell_type": "code",
   "execution_count": 34,
   "metadata": {
    "scrolled": true
   },
   "outputs": [
    {
     "name": "stdout",
     "output_type": "stream",
     "text": [
      "\\begin{longtable}{lrrrrrrr}\n",
      "\\toprule\n",
      "{} &        a &        b &         f(a) &         f(b) &        r &   $\\Delta r$ &  $\\Delta r/r$ \\\\\n",
      "\\midrule\n",
      "\\endhead\n",
      "\\midrule\n",
      "\\multicolumn{8}{r}{{Continued on next page}} \\\\\n",
      "\\midrule\n",
      "\\endfoot\n",
      "\n",
      "\\bottomrule\n",
      "\\endlastfoot\n",
      "0  &  1.50000 &  2.00000 &  1.26639e-01 & -7.39575e+00 &  1.75000 &  2.50000e-01 &   1.42857e-01 \\\\\n",
      "1  &  1.50000 &  1.75000 &  1.26639e-01 & -3.43578e+00 &  1.62500 &  1.25000e-01 &   7.69231e-02 \\\\\n",
      "2  &  1.50000 &  1.62500 &  1.26639e-01 & -1.59453e+00 &  1.56250 &  6.25000e-02 &   4.00000e-02 \\\\\n",
      "3  &  1.50000 &  1.56250 &  1.26639e-01 & -7.17379e-01 &  1.53125 &  3.12500e-02 &   2.04082e-02 \\\\\n",
      "4  &  1.50000 &  1.53125 &  1.26639e-01 & -2.91015e-01 &  1.51562 &  1.56250e-02 &   1.03093e-02 \\\\\n",
      "5  &  1.50000 &  1.51562 &  1.26639e-01 & -8.10710e-02 &  1.50781 &  7.81250e-03 &   5.18135e-03 \\\\\n",
      "6  &  1.50781 &  1.51562 &  2.30667e-02 & -8.10710e-02 &  1.51172 &  3.90625e-03 &   2.58398e-03 \\\\\n",
      "7  &  1.50781 &  1.51172 &  2.30667e-02 & -2.89319e-02 &  1.50977 &  1.95312e-03 &   1.29366e-03 \\\\\n",
      "8  &  1.50781 &  1.50977 &  2.30667e-02 & -2.91502e-03 &  1.50879 &  9.76562e-04 &   6.47249e-04 \\\\\n",
      "9  &  1.50879 &  1.50977 &  1.00802e-02 & -2.91502e-03 &  1.50928 &  4.88281e-04 &   3.23520e-04 \\\\\n",
      "40 &  1.50955 &  1.50955 &  1.25455e-12 & -4.79661e-12 &  1.50955 &  2.27374e-13 &   1.50624e-13 \\\\\n",
      "41 &  1.50955 &  1.50955 &  1.25455e-12 & -1.77103e-12 &  1.50955 &  1.13687e-13 &   7.53119e-14 \\\\\n",
      "42 &  1.50955 &  1.50955 &  1.25455e-12 & -2.61569e-13 &  1.50955 &  5.68434e-14 &   3.76560e-14 \\\\\n",
      "43 &  1.50955 &  1.50955 &  4.93383e-13 & -2.61569e-13 &  1.50955 &  2.84217e-14 &   1.88280e-14 \\\\\n",
      "44 &  1.50955 &  1.50955 &  1.19016e-13 & -2.61569e-13 &  1.50955 &  1.42109e-14 &   9.41399e-15 \\\\\n",
      "45 &  1.50955 &  1.50955 &  1.19016e-13 & -6.79456e-14 &  1.50955 &  7.10543e-15 &   4.70699e-15 \\\\\n",
      "46 &  1.50955 &  1.50955 &  2.57572e-14 & -6.79456e-14 &  1.50955 &  3.55271e-15 &   2.35350e-15 \\\\\n",
      "47 &  1.50955 &  1.50955 &  2.57572e-14 & -2.79776e-14 &  1.50955 &  1.77636e-15 &   1.17675e-15 \\\\\n",
      "48 &  1.50955 &  1.50955 &  2.22045e-15 & -2.79776e-14 &  1.50955 &  8.88178e-16 &   5.88374e-16 \\\\\n",
      "49 &  1.50955 &  1.50955 &  2.22045e-15 & -9.32587e-15 &  1.50955 &  4.44089e-16 &   2.94187e-16 \\\\\n",
      "\\end{longtable}\n",
      "\n"
     ]
    }
   ],
   "source": [
    "print(pd.concat([bisec3.head(10),bisec3.tail(10)]).to_latex(longtable=True,escape=False))"
   ]
  },
  {
   "cell_type": "markdown",
   "metadata": {},
   "source": [
    "### Newton-Raphson"
   ]
  },
  {
   "cell_type": "code",
   "execution_count": 35,
   "metadata": {},
   "outputs": [],
   "source": [
    "pd.set_option('precision',12)"
   ]
  },
  {
   "cell_type": "code",
   "execution_count": 36,
   "metadata": {},
   "outputs": [],
   "source": [
    "nr1 = nr(f=Function(0.3).calc,der_f=der_f,p0=-2,max_iter=20,tol=tolerancia)"
   ]
  },
  {
   "cell_type": "code",
   "execution_count": 37,
   "metadata": {},
   "outputs": [
    {
     "name": "stdout",
     "output_type": "stream",
     "text": [
      "\\begin{longtable}{lrll}\n",
      "\\toprule\n",
      "{} &               y &         $\\Delta y$ &       $\\Delta y/y$ \\\\\n",
      "\\midrule\n",
      "\\endhead\n",
      "\\midrule\n",
      "\\multicolumn{4}{r}{{Continued on next page}} \\\\\n",
      "\\midrule\n",
      "\\endfoot\n",
      "\n",
      "\\bottomrule\n",
      "\\endlastfoot\n",
      "0 & -2.000000000000 &    0.0942981312701 &   -0.0471490656351 \\\\\n",
      "1 & -1.905701868730 &   0.00124168975694 & -0.000651565587102 \\\\\n",
      "2 & -1.904460178973 &  2.36994192715e-07 & -1.24441663486e-07 \\\\\n",
      "3 & -1.904459941979 &    8.881784197e-15 & -4.66367603814e-15 \\\\\n",
      "4 & -1.904459941979 &  2.22044604925e-16 & -1.16591900953e-16 \\\\\n",
      "5 & -1.904459941979 &                  - &                  - \\\\\n",
      "\\end{longtable}\n",
      "\n"
     ]
    }
   ],
   "source": [
    "print(nr1.to_latex(longtable=True,escape=False))"
   ]
  },
  {
   "cell_type": "code",
   "execution_count": 38,
   "metadata": {},
   "outputs": [],
   "source": [
    "nr2 = nr(f=Function(0.3).calc,der_f=der_f,p0=0.5,max_iter=20,tol=tolerancia)"
   ]
  },
  {
   "cell_type": "code",
   "execution_count": 39,
   "metadata": {},
   "outputs": [
    {
     "name": "stdout",
     "output_type": "stream",
     "text": [
      "\\begin{longtable}{lrll}\n",
      "\\toprule\n",
      "{} &               y &         $\\Delta y$ &       $\\Delta y/y$ \\\\\n",
      "\\midrule\n",
      "\\endhead\n",
      "\\midrule\n",
      "\\multicolumn{4}{r}{{Continued on next page}} \\\\\n",
      "\\midrule\n",
      "\\endfoot\n",
      "\n",
      "\\bottomrule\n",
      "\\endlastfoot\n",
      "0 &  0.500000000000 &     0.574841701872 &      1.14968340374 \\\\\n",
      "1 & -0.074841701872 &     0.226421057817 &      -3.0253328312 \\\\\n",
      "2 &  0.151579355945 &  6.80635857979e-05 &  0.000449029390405 \\\\\n",
      "3 &  0.151647419531 &  2.14993228775e-09 &  1.41771768647e-08 \\\\\n",
      "4 &  0.151647421680 &                  - &                  - \\\\\n",
      "\\end{longtable}\n",
      "\n"
     ]
    }
   ],
   "source": [
    "print(nr2.to_latex(longtable=True,escape=False))"
   ]
  },
  {
   "cell_type": "code",
   "execution_count": 40,
   "metadata": {},
   "outputs": [
    {
     "name": "stdout",
     "output_type": "stream",
     "text": [
      "\\begin{longtable}{lrll}\n",
      "\\toprule\n",
      "{} &               y &         $\\Delta y$ &       $\\Delta y/y$ \\\\\n",
      "\\midrule\n",
      "\\endhead\n",
      "\\midrule\n",
      "\\multicolumn{4}{r}{{Continued on next page}} \\\\\n",
      "\\midrule\n",
      "\\endfoot\n",
      "\n",
      "\\bottomrule\n",
      "\\endlastfoot\n",
      "0 &  1.500000000000 &   0.00957881150245 &   0.00638587433497 \\\\\n",
      "1 &  1.509578811502 &  3.21854092622e-05 &  2.13207876376e-05 \\\\\n",
      "2 &  1.509546626093 &  3.59600349498e-10 &  2.38217451042e-10 \\\\\n",
      "3 &  1.509546625734 &  2.22044604925e-16 &  1.47093571765e-16 \\\\\n",
      "4 &  1.509546625734 &                  - &                  - \\\\\n",
      "\\end{longtable}\n",
      "\n"
     ]
    }
   ],
   "source": [
    "nr3 = nr(f=Function(0.3).calc,der_f=der_f,p0=1.5,max_iter=20,tol=tolerancia)\n",
    "print(nr3.to_latex(longtable=True,escape=False))"
   ]
  },
  {
   "cell_type": "markdown",
   "metadata": {},
   "source": [
    "### Punto fijo"
   ]
  },
  {
   "cell_type": "code",
   "execution_count": 41,
   "metadata": {},
   "outputs": [],
   "source": [
    "pd.set_option('precision',7)"
   ]
  },
  {
   "cell_type": "code",
   "execution_count": 42,
   "metadata": {},
   "outputs": [],
   "source": [
    "pf1 = pfijo(g=Function_g(0.3).calc,p0=-2,max_iter=200,tol=tolerancia)\n",
    "pf2 = pfijo(g=Function_g(0.3).calc,p0=0.2,max_iter=200,tol=tolerancia)\n",
    "pf3 = pfijo(g=Function_g(0.3).calc,p0=1.5,max_iter=200,tol=tolerancia)"
   ]
  },
  {
   "cell_type": "code",
   "execution_count": 43,
   "metadata": {
    "scrolled": true
   },
   "outputs": [
    {
     "name": "stdout",
     "output_type": "stream",
     "text": [
      "\\begin{longtable}{lrll}\n",
      "\\toprule\n",
      "{} &          y &    $\\Delta y$ &  $\\Delta y/y$ \\\\\n",
      "\\midrule\n",
      "\\endhead\n",
      "\\midrule\n",
      "\\multicolumn{4}{r}{{Continued on next page}} \\\\\n",
      "\\midrule\n",
      "\\endfoot\n",
      "\n",
      "\\bottomrule\n",
      "\\endlastfoot\n",
      "0  & -2.0000000 &    0.07754765 &   -0.03877382 \\\\\n",
      "1  & -1.9224524 &    0.01444168 &  -0.007512116 \\\\\n",
      "2  & -1.9080107 &   0.002843756 &   -0.00149043 \\\\\n",
      "3  & -1.9051669 &  0.0005659602 & -0.0002970659 \\\\\n",
      "4  & -1.9046010 &  0.0001128738 & -5.926375e-05 \\\\\n",
      "5  & -1.9044881 &  2.252072e-05 & -1.182508e-05 \\\\\n",
      "6  & -1.9044656 &  4.493738e-06 &  -2.35958e-06 \\\\\n",
      "7  & -1.9044611 &  8.966863e-07 & -4.708347e-07 \\\\\n",
      "8  & -1.9044602 &  1.789265e-07 & -9.395131e-08 \\\\\n",
      "9  & -1.9044600 &  3.570337e-08 & -1.874724e-08 \\\\\n",
      "10 & -1.9044600 &  7.124325e-09 & -3.740864e-09 \\\\\n",
      "11 & -1.9044599 &  1.421603e-09 & -7.464598e-10 \\\\\n",
      "12 & -1.9044599 &  2.836695e-10 & -1.489501e-10 \\\\\n",
      "13 & -1.9044599 &  5.660405e-11 & -2.972184e-11 \\\\\n",
      "14 & -1.9044599 &  1.129496e-11 & -5.930797e-12 \\\\\n",
      "15 & -1.9044599 &  2.253309e-12 & -1.183175e-12 \\\\\n",
      "16 & -1.9044599 &  4.498624e-13 & -2.362152e-13 \\\\\n",
      "17 & -1.9044599 &  8.970602e-14 & -4.710313e-14 \\\\\n",
      "18 & -1.9044599 &  1.820766e-14 & -9.560536e-15 \\\\\n",
      "19 & -1.9044599 &  3.552714e-15 &  -1.86547e-15 \\\\\n",
      "20 & -1.9044599 &  4.440892e-16 & -2.331838e-16 \\\\\n",
      "21 & -1.9044599 &  4.440892e-16 & -2.331838e-16 \\\\\n",
      "22 & -1.9044599 &             - &             - \\\\\n",
      "\\end{longtable}\n",
      "\n"
     ]
    }
   ],
   "source": [
    "print(pf1.to_latex(longtable=True,escape=False))"
   ]
  },
  {
   "cell_type": "code",
   "execution_count": 44,
   "metadata": {
    "collapsed": true
   },
   "outputs": [
    {
     "data": {
      "text/html": [
       "<div>\n",
       "<style scoped>\n",
       "    .dataframe tbody tr th:only-of-type {\n",
       "        vertical-align: middle;\n",
       "    }\n",
       "\n",
       "    .dataframe tbody tr th {\n",
       "        vertical-align: top;\n",
       "    }\n",
       "\n",
       "    .dataframe thead th {\n",
       "        text-align: right;\n",
       "    }\n",
       "</style>\n",
       "<table border=\"1\" class=\"dataframe\">\n",
       "  <thead>\n",
       "    <tr style=\"text-align: right;\">\n",
       "      <th></th>\n",
       "      <th>y</th>\n",
       "      <th>$\\Delta y$</th>\n",
       "      <th>$\\Delta y/y$</th>\n",
       "    </tr>\n",
       "  </thead>\n",
       "  <tbody>\n",
       "    <tr>\n",
       "      <th>0</th>\n",
       "      <td>0.2000000</td>\n",
       "      <td>0.04336669</td>\n",
       "      <td>0.2168335</td>\n",
       "    </tr>\n",
       "    <tr>\n",
       "      <th>1</th>\n",
       "      <td>0.2433667</td>\n",
       "      <td>0.0801325</td>\n",
       "      <td>0.3292665</td>\n",
       "    </tr>\n",
       "    <tr>\n",
       "      <th>2</th>\n",
       "      <td>0.3234992</td>\n",
       "      <td>0.1416603</td>\n",
       "      <td>0.4378999</td>\n",
       "    </tr>\n",
       "    <tr>\n",
       "      <th>3</th>\n",
       "      <td>0.4651595</td>\n",
       "      <td>0.2263418</td>\n",
       "      <td>0.4865897</td>\n",
       "    </tr>\n",
       "    <tr>\n",
       "      <th>4</th>\n",
       "      <td>0.6915012</td>\n",
       "      <td>0.2919391</td>\n",
       "      <td>0.4221817</td>\n",
       "    </tr>\n",
       "    <tr>\n",
       "      <th>5</th>\n",
       "      <td>0.9834404</td>\n",
       "      <td>0.2629807</td>\n",
       "      <td>0.2674089</td>\n",
       "    </tr>\n",
       "    <tr>\n",
       "      <th>6</th>\n",
       "      <td>1.2464211</td>\n",
       "      <td>0.1565271</td>\n",
       "      <td>0.1255813</td>\n",
       "    </tr>\n",
       "    <tr>\n",
       "      <th>7</th>\n",
       "      <td>1.4029482</td>\n",
       "      <td>0.06815386</td>\n",
       "      <td>0.04857903</td>\n",
       "    </tr>\n",
       "    <tr>\n",
       "      <th>8</th>\n",
       "      <td>1.4711021</td>\n",
       "      <td>0.02523539</td>\n",
       "      <td>0.01715407</td>\n",
       "    </tr>\n",
       "    <tr>\n",
       "      <th>9</th>\n",
       "      <td>1.4963375</td>\n",
       "      <td>0.008749854</td>\n",
       "      <td>0.005847514</td>\n",
       "    </tr>\n",
       "    <tr>\n",
       "      <th>10</th>\n",
       "      <td>1.5050873</td>\n",
       "      <td>0.002962987</td>\n",
       "      <td>0.001968648</td>\n",
       "    </tr>\n",
       "    <tr>\n",
       "      <th>11</th>\n",
       "      <td>1.5080503</td>\n",
       "      <td>0.0009952626</td>\n",
       "      <td>0.0006599665</td>\n",
       "    </tr>\n",
       "    <tr>\n",
       "      <th>12</th>\n",
       "      <td>1.5090456</td>\n",
       "      <td>0.0003333937</td>\n",
       "      <td>0.0002209302</td>\n",
       "    </tr>\n",
       "    <tr>\n",
       "      <th>13</th>\n",
       "      <td>1.5093790</td>\n",
       "      <td>0.000111578</td>\n",
       "      <td>7.392312e-05</td>\n",
       "    </tr>\n",
       "    <tr>\n",
       "      <th>14</th>\n",
       "      <td>1.5094905</td>\n",
       "      <td>3.733071e-05</td>\n",
       "      <td>2.473067e-05</td>\n",
       "    </tr>\n",
       "    <tr>\n",
       "      <th>15</th>\n",
       "      <td>1.5095279</td>\n",
       "      <td>1.248847e-05</td>\n",
       "      <td>8.273098e-06</td>\n",
       "    </tr>\n",
       "    <tr>\n",
       "      <th>16</th>\n",
       "      <td>1.5095403</td>\n",
       "      <td>4.177701e-06</td>\n",
       "      <td>2.767532e-06</td>\n",
       "    </tr>\n",
       "    <tr>\n",
       "      <th>17</th>\n",
       "      <td>1.5095445</td>\n",
       "      <td>1.397528e-06</td>\n",
       "      <td>9.257943e-07</td>\n",
       "    </tr>\n",
       "    <tr>\n",
       "      <th>18</th>\n",
       "      <td>1.5095459</td>\n",
       "      <td>4.675002e-07</td>\n",
       "      <td>3.096959e-07</td>\n",
       "    </tr>\n",
       "    <tr>\n",
       "      <th>19</th>\n",
       "      <td>1.5095464</td>\n",
       "      <td>1.563877e-07</td>\n",
       "      <td>1.035992e-07</td>\n",
       "    </tr>\n",
       "    <tr>\n",
       "      <th>20</th>\n",
       "      <td>1.5095465</td>\n",
       "      <td>5.231465e-08</td>\n",
       "      <td>3.465587e-08</td>\n",
       "    </tr>\n",
       "    <tr>\n",
       "      <th>21</th>\n",
       "      <td>1.5095466</td>\n",
       "      <td>1.750024e-08</td>\n",
       "      <td>1.159304e-08</td>\n",
       "    </tr>\n",
       "    <tr>\n",
       "      <th>22</th>\n",
       "      <td>1.5095466</td>\n",
       "      <td>5.854158e-09</td>\n",
       "      <td>3.878091e-09</td>\n",
       "    </tr>\n",
       "    <tr>\n",
       "      <th>23</th>\n",
       "      <td>1.5095466</td>\n",
       "      <td>1.958326e-09</td>\n",
       "      <td>1.297294e-09</td>\n",
       "    </tr>\n",
       "    <tr>\n",
       "      <th>24</th>\n",
       "      <td>1.5095466</td>\n",
       "      <td>6.550969e-10</td>\n",
       "      <td>4.339693e-10</td>\n",
       "    </tr>\n",
       "    <tr>\n",
       "      <th>25</th>\n",
       "      <td>1.5095466</td>\n",
       "      <td>2.19142e-10</td>\n",
       "      <td>1.451708e-10</td>\n",
       "    </tr>\n",
       "    <tr>\n",
       "      <th>26</th>\n",
       "      <td>1.5095466</td>\n",
       "      <td>7.330714e-11</td>\n",
       "      <td>4.856235e-11</td>\n",
       "    </tr>\n",
       "    <tr>\n",
       "      <th>27</th>\n",
       "      <td>1.5095466</td>\n",
       "      <td>2.452261e-11</td>\n",
       "      <td>1.624501e-11</td>\n",
       "    </tr>\n",
       "    <tr>\n",
       "      <th>28</th>\n",
       "      <td>1.5095466</td>\n",
       "      <td>8.20366e-12</td>\n",
       "      <td>5.434519e-12</td>\n",
       "    </tr>\n",
       "    <tr>\n",
       "      <th>29</th>\n",
       "      <td>1.5095466</td>\n",
       "      <td>2.744027e-12</td>\n",
       "      <td>1.817782e-12</td>\n",
       "    </tr>\n",
       "    <tr>\n",
       "      <th>30</th>\n",
       "      <td>1.5095466</td>\n",
       "      <td>9.179324e-13</td>\n",
       "      <td>6.080848e-13</td>\n",
       "    </tr>\n",
       "    <tr>\n",
       "      <th>31</th>\n",
       "      <td>1.5095466</td>\n",
       "      <td>3.073097e-13</td>\n",
       "      <td>2.035775e-13</td>\n",
       "    </tr>\n",
       "    <tr>\n",
       "      <th>32</th>\n",
       "      <td>1.5095466</td>\n",
       "      <td>1.025846e-13</td>\n",
       "      <td>6.795723e-14</td>\n",
       "    </tr>\n",
       "    <tr>\n",
       "      <th>33</th>\n",
       "      <td>1.5095466</td>\n",
       "      <td>3.419487e-14</td>\n",
       "      <td>2.265241e-14</td>\n",
       "    </tr>\n",
       "    <tr>\n",
       "      <th>34</th>\n",
       "      <td>1.5095466</td>\n",
       "      <td>1.154632e-14</td>\n",
       "      <td>7.648866e-15</td>\n",
       "    </tr>\n",
       "    <tr>\n",
       "      <th>35</th>\n",
       "      <td>1.5095466</td>\n",
       "      <td>3.996803e-15</td>\n",
       "      <td>2.647684e-15</td>\n",
       "    </tr>\n",
       "    <tr>\n",
       "      <th>36</th>\n",
       "      <td>1.5095466</td>\n",
       "      <td>1.332268e-15</td>\n",
       "      <td>8.825614e-16</td>\n",
       "    </tr>\n",
       "    <tr>\n",
       "      <th>37</th>\n",
       "      <td>1.5095466</td>\n",
       "      <td>4.440892e-16</td>\n",
       "      <td>2.941871e-16</td>\n",
       "    </tr>\n",
       "    <tr>\n",
       "      <th>38</th>\n",
       "      <td>1.5095466</td>\n",
       "      <td>4.440892e-16</td>\n",
       "      <td>2.941871e-16</td>\n",
       "    </tr>\n",
       "    <tr>\n",
       "      <th>39</th>\n",
       "      <td>1.5095466</td>\n",
       "      <td>-</td>\n",
       "      <td>-</td>\n",
       "    </tr>\n",
       "  </tbody>\n",
       "</table>\n",
       "</div>"
      ],
      "text/plain": [
       "            y    $\\Delta y$  $\\Delta y/y$\n",
       "0   0.2000000    0.04336669     0.2168335\n",
       "1   0.2433667     0.0801325     0.3292665\n",
       "2   0.3234992     0.1416603     0.4378999\n",
       "3   0.4651595     0.2263418     0.4865897\n",
       "4   0.6915012     0.2919391     0.4221817\n",
       "5   0.9834404     0.2629807     0.2674089\n",
       "6   1.2464211     0.1565271     0.1255813\n",
       "7   1.4029482    0.06815386    0.04857903\n",
       "8   1.4711021    0.02523539    0.01715407\n",
       "9   1.4963375   0.008749854   0.005847514\n",
       "10  1.5050873   0.002962987   0.001968648\n",
       "11  1.5080503  0.0009952626  0.0006599665\n",
       "12  1.5090456  0.0003333937  0.0002209302\n",
       "13  1.5093790   0.000111578  7.392312e-05\n",
       "14  1.5094905  3.733071e-05  2.473067e-05\n",
       "15  1.5095279  1.248847e-05  8.273098e-06\n",
       "16  1.5095403  4.177701e-06  2.767532e-06\n",
       "17  1.5095445  1.397528e-06  9.257943e-07\n",
       "18  1.5095459  4.675002e-07  3.096959e-07\n",
       "19  1.5095464  1.563877e-07  1.035992e-07\n",
       "20  1.5095465  5.231465e-08  3.465587e-08\n",
       "21  1.5095466  1.750024e-08  1.159304e-08\n",
       "22  1.5095466  5.854158e-09  3.878091e-09\n",
       "23  1.5095466  1.958326e-09  1.297294e-09\n",
       "24  1.5095466  6.550969e-10  4.339693e-10\n",
       "25  1.5095466   2.19142e-10  1.451708e-10\n",
       "26  1.5095466  7.330714e-11  4.856235e-11\n",
       "27  1.5095466  2.452261e-11  1.624501e-11\n",
       "28  1.5095466   8.20366e-12  5.434519e-12\n",
       "29  1.5095466  2.744027e-12  1.817782e-12\n",
       "30  1.5095466  9.179324e-13  6.080848e-13\n",
       "31  1.5095466  3.073097e-13  2.035775e-13\n",
       "32  1.5095466  1.025846e-13  6.795723e-14\n",
       "33  1.5095466  3.419487e-14  2.265241e-14\n",
       "34  1.5095466  1.154632e-14  7.648866e-15\n",
       "35  1.5095466  3.996803e-15  2.647684e-15\n",
       "36  1.5095466  1.332268e-15  8.825614e-16\n",
       "37  1.5095466  4.440892e-16  2.941871e-16\n",
       "38  1.5095466  4.440892e-16  2.941871e-16\n",
       "39  1.5095466             -             -"
      ]
     },
     "execution_count": 44,
     "metadata": {},
     "output_type": "execute_result"
    }
   ],
   "source": [
    "pf2"
   ]
  },
  {
   "cell_type": "markdown",
   "metadata": {},
   "source": [
    "### Para punto fijo la segunda raíz no converge porque |g'| > 1"
   ]
  },
  {
   "cell_type": "code",
   "execution_count": 45,
   "metadata": {
    "scrolled": true
   },
   "outputs": [
    {
     "name": "stdout",
     "output_type": "stream",
     "text": [
      "\\begin{longtable}{lrll}\n",
      "\\toprule\n",
      "{} &          y &    $\\Delta y$ &  $\\Delta y/y$ \\\\\n",
      "\\midrule\n",
      "\\endhead\n",
      "\\midrule\n",
      "\\multicolumn{4}{r}{{Continued on next page}} \\\\\n",
      "\\midrule\n",
      "\\endfoot\n",
      "\n",
      "\\bottomrule\n",
      "\\endlastfoot\n",
      "0  &  1.5000000 &   0.006331935 &    0.00422129 \\\\\n",
      "1  &  1.5063319 &   0.002136925 &   0.001418628 \\\\\n",
      "2  &  1.5084689 &  0.0007169647 &   0.000475293 \\\\\n",
      "3  &  1.5091858 &  0.0002400766 &  0.0001590769 \\\\\n",
      "4  &  1.5094259 &  8.033686e-05 &  5.322345e-05 \\\\\n",
      "5  &  1.5095062 &  2.687718e-05 &  1.780528e-05 \\\\\n",
      "6  &  1.5095331 &  8.991258e-06 &  5.956317e-06 \\\\\n",
      "7  &  1.5095421 &  3.007783e-06 &  1.992513e-06 \\\\\n",
      "8  &  1.5095451 &  1.006164e-06 &  6.665346e-07 \\\\\n",
      "9  &  1.5095461 &  3.365813e-07 &  2.229685e-07 \\\\\n",
      "20 &  1.5095466 &  1.975309e-12 &  1.308544e-12 \\\\\n",
      "21 &  1.5095466 &  6.612488e-13 &  4.380447e-13 \\\\\n",
      "22 &  1.5095466 &  2.211564e-13 &  1.465052e-13 \\\\\n",
      "23 &  1.5095466 &  7.371881e-14 &  4.883507e-14 \\\\\n",
      "24 &  1.5095466 &    2.4869e-14 &  1.647448e-14 \\\\\n",
      "25 &  1.5095466 &  8.437695e-15 &  5.589556e-15 \\\\\n",
      "26 &  1.5095466 &  2.664535e-15 &  1.765123e-15 \\\\\n",
      "27 &  1.5095466 &  1.332268e-15 &  8.825614e-16 \\\\\n",
      "28 &  1.5095466 &  4.440892e-16 &  2.941871e-16 \\\\\n",
      "29 &  1.5095466 &             - &             - \\\\\n",
      "\\end{longtable}\n",
      "\n"
     ]
    }
   ],
   "source": [
    "print(pd.concat([pf3.head(10),pf3.tail(10)]).to_latex(longtable=True,escape=False))"
   ]
  },
  {
   "cell_type": "code",
   "execution_count": 70,
   "metadata": {},
   "outputs": [
    {
     "data": {
      "image/png": "[encoded data removed]",
      "text/plain": [
       "<Figure size 720x360 with 1 Axes>"
      ]
     },
     "metadata": {},
     "output_type": "display_data"
    }
   ],
   "source": [
    "fig,ax=plt.subplots(figsize=(10,5))\n",
    "sns.lineplot(data=bisec1['$\\Delta r$'],label='Biseccion')\n",
    "sns.lineplot(data=nr1[:-1]['$\\Delta y$'].astype(float),label='Newton-Raphson')\n",
    "sns.lineplot(data=pf1[:-1]['$\\Delta y$'].astype(float),label='Punto fijo')\n",
    "plt.title('Raíz 1')\n",
    "plt.xlabel('# Iteración')\n",
    "plt.ylabel('Diferencia entre iteraciones consecutivas')\n",
    "plt.yscale('log')"
   ]
  },
  {
   "cell_type": "code",
   "execution_count": 69,
   "metadata": {},
   "outputs": [
    {
     "data": {
      "image/png": "[encoded data removed]",
      "text/plain": [
       "<Figure size 720x360 with 1 Axes>"
      ]
     },
     "metadata": {},
     "output_type": "display_data"
    }
   ],
   "source": [
    "fig,ax=plt.subplots(figsize=(10,5))\n",
    "sns.lineplot(data=bisec2['$\\Delta r$'],label='Biseccion')\n",
    "sns.lineplot(data=nr2[:-1]['$\\Delta y$'].astype(float),label='Newton-Raphson')\n",
    "plt.title('Raíz 2')\n",
    "plt.xlabel('# Iteración')\n",
    "plt.ylabel('Diferencia entre iteraciones consecutivas')\n",
    "plt.yscale('log')"
   ]
  },
  {
   "cell_type": "code",
   "execution_count": 68,
   "metadata": {},
   "outputs": [
    {
     "data": {
      "image/png": "[encoded data removed]",
      "text/plain": [
       "<Figure size 720x360 with 1 Axes>"
      ]
     },
     "metadata": {},
     "output_type": "display_data"
    }
   ],
   "source": [
    "fig,ax=plt.subplots(figsize=(10,5))\n",
    "sns.lineplot(data=bisec3['$\\Delta r$'],label='Biseccion')\n",
    "sns.lineplot(data=nr3[:-1]['$\\Delta y$'].astype(float),label='Newton-Raphson')\n",
    "sns.lineplot(data=pf3[:-1]['$\\Delta y$'].astype(float),label='Punto fijo')\n",
    "plt.title('Raíz 3')\n",
    "plt.xlabel('# Iteración')\n",
    "plt.ylabel('Diferencia entre iteraciones consecutivas')\n",
    "plt.yscale('log')"
   ]
  },
  {
   "cell_type": "markdown",
   "metadata": {},
   "source": [
    "# Item 3"
   ]
  },
  {
   "cell_type": "code",
   "execution_count": 49,
   "metadata": {},
   "outputs": [
    {
     "data": {
      "text/html": [
       "<div>\n",
       "<style scoped>\n",
       "    .dataframe tbody tr th:only-of-type {\n",
       "        vertical-align: middle;\n",
       "    }\n",
       "\n",
       "    .dataframe tbody tr th {\n",
       "        vertical-align: top;\n",
       "    }\n",
       "\n",
       "    .dataframe thead th {\n",
       "        text-align: right;\n",
       "    }\n",
       "</style>\n",
       "<table border=\"1\" class=\"dataframe\">\n",
       "  <thead>\n",
       "    <tr style=\"text-align: right;\">\n",
       "      <th></th>\n",
       "      <th>y</th>\n",
       "      <th>$\\Delta y$</th>\n",
       "      <th>$\\Delta y/y$</th>\n",
       "    </tr>\n",
       "  </thead>\n",
       "  <tbody>\n",
       "    <tr>\n",
       "      <th>0</th>\n",
       "      <td>0.7700000</td>\n",
       "      <td>24.34806</td>\n",
       "      <td>31.62086</td>\n",
       "    </tr>\n",
       "    <tr>\n",
       "      <th>1</th>\n",
       "      <td>25.1180633</td>\n",
       "      <td>23.28267</td>\n",
       "      <td>0.9269292</td>\n",
       "    </tr>\n",
       "    <tr>\n",
       "      <th>2</th>\n",
       "      <td>1.8353972</td>\n",
       "      <td>0.3035989</td>\n",
       "      <td>0.1654132</td>\n",
       "    </tr>\n",
       "    <tr>\n",
       "      <th>3</th>\n",
       "      <td>1.5317982</td>\n",
       "      <td>0.02208635</td>\n",
       "      <td>0.01441857</td>\n",
       "    </tr>\n",
       "    <tr>\n",
       "      <th>4</th>\n",
       "      <td>1.5097119</td>\n",
       "      <td>0.0001652483</td>\n",
       "      <td>0.0001094568</td>\n",
       "    </tr>\n",
       "    <tr>\n",
       "      <th>5</th>\n",
       "      <td>1.5095466</td>\n",
       "      <td>9.477904e-09</td>\n",
       "      <td>6.278643e-09</td>\n",
       "    </tr>\n",
       "    <tr>\n",
       "      <th>6</th>\n",
       "      <td>1.5095466</td>\n",
       "      <td>2.220446e-16</td>\n",
       "      <td>1.470936e-16</td>\n",
       "    </tr>\n",
       "    <tr>\n",
       "      <th>7</th>\n",
       "      <td>1.5095466</td>\n",
       "      <td>-</td>\n",
       "      <td>-</td>\n",
       "    </tr>\n",
       "  </tbody>\n",
       "</table>\n",
       "</div>"
      ],
      "text/plain": [
       "            y    $\\Delta y$  $\\Delta y/y$\n",
       "0   0.7700000      24.34806      31.62086\n",
       "1  25.1180633      23.28267     0.9269292\n",
       "2   1.8353972     0.3035989     0.1654132\n",
       "3   1.5317982    0.02208635    0.01441857\n",
       "4   1.5097119  0.0001652483  0.0001094568\n",
       "5   1.5095466  9.477904e-09  6.278643e-09\n",
       "6   1.5095466  2.220446e-16  1.470936e-16\n",
       "7   1.5095466             -             -"
      ]
     },
     "execution_count": 49,
     "metadata": {},
     "output_type": "execute_result"
    }
   ],
   "source": [
    "nr(p0=0.77,f=Function(0.3).calc,max_iter=200,tol=tolerancia,der_f=der_f)"
   ]
  },
  {
   "cell_type": "code",
   "execution_count": 50,
   "metadata": {},
   "outputs": [
    {
     "data": {
      "text/plain": [
       "[<matplotlib.lines.Line2D at 0x7f956b2b7a58>]"
      ]
     },
     "execution_count": 50,
     "metadata": {},
     "output_type": "execute_result"
    },
    {
     "data": {
      "image/png": "[encoded data removed]",
      "text/plain": [
       "<Figure size 432x288 with 1 Axes>"
      ]
     },
     "metadata": {},
     "output_type": "display_data"
    }
   ],
   "source": [
    "plt.plot(Function(0.3).calc(np.arange(-2,2,0.001)))"
   ]
  },
  {
   "cell_type": "markdown",
   "metadata": {},
   "source": [
    "# Item 4"
   ]
  },
  {
   "cell_type": "code",
   "execution_count": 51,
   "metadata": {},
   "outputs": [
    {
     "data": {
      "text/plain": [
       "Text(0.5, 1.0, 'Gráfica de F(y) con -3 < y < 3, m=0')"
      ]
     },
     "execution_count": 51,
     "metadata": {},
     "output_type": "execute_result"
    },
    {
     "data": {
      "image/png": "[encoded data removed]",
      "text/plain": [
       "<Figure size 720x360 with 1 Axes>"
      ]
     },
     "metadata": {},
     "output_type": "display_data"
    }
   ],
   "source": [
    "plt.subplots(figsize=(10,5))\n",
    "plt.plot(f(np.arange(-3,3,0.001)))\n",
    "plt.xticks(ticks=[0,1000,2000,3000,4000,5000,6000],labels=['-3','2','-1','0','1','2','3'])\n",
    "plt.title('Gráfica de F(y) con -3 < y < 3, m=0',size=16)"
   ]
  },
  {
   "cell_type": "markdown",
   "metadata": {},
   "source": [
    "## $0.6 \\cdot m_0$"
   ]
  },
  {
   "cell_type": "code",
   "execution_count": 52,
   "metadata": {},
   "outputs": [
    {
     "data": {
      "text/plain": [
       "[<matplotlib.lines.Line2D at 0x7f956b3ff898>]"
      ]
     },
     "execution_count": 52,
     "metadata": {},
     "output_type": "execute_result"
    },
    {
     "data": {
      "image/png": "[encoded data removed]",
      "text/plain": [
       "<Figure size 432x288 with 1 Axes>"
      ]
     },
     "metadata": {},
     "output_type": "display_data"
    }
   ],
   "source": [
    "plt.plot(Function(0.6).calc(np.arange(-3,3,0.001)))"
   ]
  },
  {
   "cell_type": "code",
   "execution_count": 53,
   "metadata": {},
   "outputs": [
    {
     "data": {
      "text/plain": [
       "5   -2.0825364\n",
       "Name: y, dtype: float64"
      ]
     },
     "execution_count": 53,
     "metadata": {},
     "output_type": "execute_result"
    }
   ],
   "source": [
    "nr(der_f=der_f,f=Function(0.6).calc,p0=-2,max_iter=20,tol=tolerancia).tail(1)['y']"
   ]
  },
  {
   "cell_type": "code",
   "execution_count": 54,
   "metadata": {},
   "outputs": [
    {
     "data": {
      "text/plain": [
       "6    0.3298178\n",
       "Name: y, dtype: float64"
      ]
     },
     "execution_count": 54,
     "metadata": {},
     "output_type": "execute_result"
    }
   ],
   "source": [
    "nr(der_f=der_f,f=Function(0.6).calc,p0=0.1,max_iter=20,tol=tolerancia).tail(1)['y']"
   ]
  },
  {
   "cell_type": "code",
   "execution_count": 55,
   "metadata": {
    "scrolled": true
   },
   "outputs": [
    {
     "data": {
      "text/plain": [
       "6    1.2664213\n",
       "Name: y, dtype: float64"
      ]
     },
     "execution_count": 55,
     "metadata": {},
     "output_type": "execute_result"
    }
   ],
   "source": [
    "nr(der_f=der_f,f=Function(0.6).calc,p0=500,max_iter=20,tol=tolerancia).tail(1)['y']"
   ]
  },
  {
   "cell_type": "markdown",
   "metadata": {},
   "source": [
    "## $0.9 \\cdot m_0$"
   ]
  },
  {
   "cell_type": "code",
   "execution_count": 56,
   "metadata": {},
   "outputs": [
    {
     "data": {
      "text/plain": [
       "[<matplotlib.lines.Line2D at 0x7f956e4bdc18>]"
      ]
     },
     "execution_count": 56,
     "metadata": {},
     "output_type": "execute_result"
    },
    {
     "data": {
      "image/png": "[encoded data removed]",
      "text/plain": [
       "<Figure size 432x288 with 1 Axes>"
      ]
     },
     "metadata": {},
     "output_type": "display_data"
    }
   ],
   "source": [
    "plt.plot(Function(0.9).calc(np.arange(-3,3,0.001)))"
   ]
  },
  {
   "cell_type": "code",
   "execution_count": 57,
   "metadata": {},
   "outputs": [
    {
     "data": {
      "text/plain": [
       "5   -2.2536779\n",
       "Name: y, dtype: float64"
      ]
     },
     "execution_count": 57,
     "metadata": {},
     "output_type": "execute_result"
    }
   ],
   "source": [
    "nr(der_f=der_f,f=Function(0.9).calc,p0=-30,max_iter=20,tol=tolerancia).tail(1)['y']"
   ]
  },
  {
   "cell_type": "code",
   "execution_count": 58,
   "metadata": {},
   "outputs": [
    {
     "data": {
      "text/plain": [
       "21    0.6944267\n",
       "Name: y, dtype: float64"
      ]
     },
     "execution_count": 58,
     "metadata": {},
     "output_type": "execute_result"
    }
   ],
   "source": [
    "nr(der_f=der_f,f=Function(0.9).calc,p0=0.3,max_iter=20,tol=tolerancia).tail(1)['y']"
   ]
  },
  {
   "cell_type": "code",
   "execution_count": 59,
   "metadata": {
    "scrolled": true
   },
   "outputs": [
    {
     "data": {
      "text/plain": [
       "9    0.8303943\n",
       "Name: y, dtype: float64"
      ]
     },
     "execution_count": 59,
     "metadata": {},
     "output_type": "execute_result"
    }
   ],
   "source": [
    "nr(der_f=der_f,f=Function(0.9).calc,p0=500,max_iter=20,tol=tolerancia).tail(1)['y']"
   ]
  },
  {
   "cell_type": "markdown",
   "metadata": {},
   "source": [
    "## $1.2 \\cdot m_0$"
   ]
  },
  {
   "cell_type": "code",
   "execution_count": 60,
   "metadata": {},
   "outputs": [
    {
     "data": {
      "text/plain": [
       "[<matplotlib.lines.Line2D at 0x7f956b3cf198>]"
      ]
     },
     "execution_count": 60,
     "metadata": {},
     "output_type": "execute_result"
    },
    {
     "data": {
      "image/png": "[encoded data removed]",
      "text/plain": [
       "<Figure size 432x288 with 1 Axes>"
      ]
     },
     "metadata": {},
     "output_type": "display_data"
    }
   ],
   "source": [
    "plt.plot(Function(1.2).calc(np.arange(-3,3,0.001)))"
   ]
  },
  {
   "cell_type": "code",
   "execution_count": 61,
   "metadata": {},
   "outputs": [
    {
     "data": {
      "text/plain": [
       "6   -2.41994\n",
       "Name: y, dtype: float64"
      ]
     },
     "execution_count": 61,
     "metadata": {},
     "output_type": "execute_result"
    }
   ],
   "source": [
    "nr(der_f=der_f,f=Function(1.2).calc,p0=-50,max_iter=20,tol=tolerancia).tail(1)['y']"
   ]
  },
  {
   "cell_type": "code",
   "execution_count": 62,
   "metadata": {},
   "outputs": [
    {
     "data": {
      "text/plain": [
       "16   -2.41994\n",
       "Name: y, dtype: float64"
      ]
     },
     "execution_count": 62,
     "metadata": {},
     "output_type": "execute_result"
    }
   ],
   "source": [
    "nr(der_f=der_f,f=Function(1.2).calc,p0=0.1,max_iter=20,tol=tolerancia).tail(1)['y']"
   ]
  },
  {
   "cell_type": "code",
   "execution_count": 63,
   "metadata": {
    "scrolled": true
   },
   "outputs": [
    {
     "data": {
      "text/plain": [
       "8   -2.41994\n",
       "Name: y, dtype: float64"
      ]
     },
     "execution_count": 63,
     "metadata": {},
     "output_type": "execute_result"
    }
   ],
   "source": [
    "nr(der_f=der_f,f=Function(1.2).calc,p0=500,max_iter=20,tol=tolerancia).tail(1)['y']"
   ]
  },
  {
   "cell_type": "markdown",
   "metadata": {},
   "source": [
    "## $1.5 \\cdot m_0$"
   ]
  },
  {
   "cell_type": "code",
   "execution_count": 64,
   "metadata": {},
   "outputs": [
    {
     "data": {
      "text/plain": [
       "[<matplotlib.lines.Line2D at 0x7f956b2d0438>]"
      ]
     },
     "execution_count": 64,
     "metadata": {},
     "output_type": "execute_result"
    },
    {
     "data": {
      "image/png": "[encoded data removed]",
      "text/plain": [
       "<Figure size 432x288 with 1 Axes>"
      ]
     },
     "metadata": {},
     "output_type": "display_data"
    }
   ],
   "source": [
    "plt.plot(Function(1.5).calc(np.arange(-3,3,0.001)))"
   ]
  },
  {
   "cell_type": "code",
   "execution_count": 65,
   "metadata": {},
   "outputs": [
    {
     "data": {
      "text/plain": [
       "5   -2.5826126\n",
       "Name: y, dtype: float64"
      ]
     },
     "execution_count": 65,
     "metadata": {},
     "output_type": "execute_result"
    }
   ],
   "source": [
    "nr(der_f=der_f,f=Function(1.5).calc,p0=-2,max_iter=20,tol=tolerancia).tail(1)['y']"
   ]
  },
  {
   "cell_type": "code",
   "execution_count": 66,
   "metadata": {},
   "outputs": [
    {
     "data": {
      "text/plain": [
       "7   -2.5826126\n",
       "Name: y, dtype: float64"
      ]
     },
     "execution_count": 66,
     "metadata": {},
     "output_type": "execute_result"
    }
   ],
   "source": [
    "nr(der_f=der_f,f=Function(1.5).calc,p0=0.1,max_iter=20,tol=tolerancia).tail(1)['y']"
   ]
  },
  {
   "cell_type": "code",
   "execution_count": 67,
   "metadata": {
    "scrolled": true
   },
   "outputs": [
    {
     "data": {
      "text/plain": [
       "11   -2.5826126\n",
       "Name: y, dtype: float64"
      ]
     },
     "execution_count": 67,
     "metadata": {},
     "output_type": "execute_result"
    }
   ],
   "source": [
    "nr(der_f=der_f,f=Function(1.5).calc,p0=500,max_iter=20,tol=tolerancia).tail(1)['y']"
   ]
  },
  {
   "cell_type": "code",
   "execution_count": null,
   "metadata": {},
   "outputs": [],
   "source": []
  }
 ],
 "metadata": {
  "kernelspec": {
   "display_name": "Python 3",
   "language": "python",
   "name": "python3"
  },
  "language_info": {
   "codemirror_mode": {
    "name": "ipython",
    "version": 3
   },
   "file_extension": ".py",
   "mimetype": "text/x-python",
   "name": "python",
   "nbconvert_exporter": "python",
   "pygments_lexer": "ipython3",
   "version": "3.6.7"
  }
 },
 "nbformat": 4,
 "nbformat_minor": 2
}
