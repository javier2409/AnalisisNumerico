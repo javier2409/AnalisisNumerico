{
 "cells": [
  {
   "cell_type": "code",
   "execution_count": 39,
   "metadata": {},
   "outputs": [],
   "source": [
    "import matplotlib.pyplot as plt"
   ]
  },
  {
   "cell_type": "code",
   "execution_count": 40,
   "metadata": {},
   "outputs": [],
   "source": [
    "import pandas as pd"
   ]
  },
  {
   "cell_type": "code",
   "execution_count": 41,
   "metadata": {},
   "outputs": [],
   "source": [
    "import numpy as np"
   ]
  },
  {
   "cell_type": "code",
   "execution_count": 42,
   "metadata": {},
   "outputs": [],
   "source": [
    "pd.set_option('precision', 3)"
   ]
  },
  {
   "cell_type": "markdown",
   "metadata": {},
   "source": [
    "# Constantes"
   ]
  },
  {
   "cell_type": "code",
   "execution_count": 43,
   "metadata": {},
   "outputs": [],
   "source": [
    "k = 10\n",
    "L0 = 1.986\n",
    "m0 = 0.993\n",
    "a = 1\n",
    "grav = 9.81"
   ]
  },
  {
   "cell_type": "code",
   "execution_count": 44,
   "metadata": {},
   "outputs": [],
   "source": [
    "tolerancia = 0.5*(10**(-15)) #0,5 * 10exp(-15)"
   ]
  },
  {
   "cell_type": "markdown",
   "metadata": {},
   "source": [
    "# Funciones"
   ]
  },
  {
   "cell_type": "code",
   "execution_count": 141,
   "metadata": {},
   "outputs": [
    {
     "data": {
      "text/plain": [
       "1.5656814013033302"
      ]
     },
     "execution_count": 141,
     "metadata": {},
     "output_type": "execute_result"
    }
   ],
   "source": [
    "Function_g(0.3).calc(1.7)"
   ]
  },
  {
   "cell_type": "code",
   "execution_count": 45,
   "metadata": {},
   "outputs": [],
   "source": [
    "class Function:\n",
    "    coef = 1    \n",
    "    def __init__(self,c):\n",
    "        self.coef = c\n",
    "    def calc(self,x):\n",
    "        return f(x)-(m0*self.coef*grav)   \n",
    "class Function_g:\n",
    "    coef = 1    \n",
    "    def __init__(self,c):\n",
    "        self.coef = c\n",
    "    def calc(self,x):\n",
    "        return (-m0*self.coef*grav)/(2*k) + ((x*L0)/(np.sqrt(x**2+a**2))) "
   ]
  },
  {
   "cell_type": "code",
   "execution_count": 191,
   "metadata": {},
   "outputs": [],
   "source": [
    "def f (x):\n",
    "    return -2*k*x*(1-(L0)/np.sqrt(x**2+a**2))\n",
    "def f2 (x):\n",
    "    return -(6*a**2*k*L0*x)/((a**2 + x**2)^(5/2))\n",
    "#def f_m (x,coef):\n",
    "    #a = f(x)\n",
    "    #return (a)-(m0*coef*g)\n",
    "def der_f(x):\n",
    "    return ((-2*k*L0*x**2) / ((a**2+x**2)**(3/2))) - 2*k*(1-(L0/np.sqrt(a**2+x**2)))\n",
    "\n",
    "def g(x):\n",
    "    return (x*L0)/(np.sqrt(x**2+a**2))\n"
   ]
  },
  {
   "cell_type": "code",
   "execution_count": 102,
   "metadata": {},
   "outputs": [],
   "source": [
    "def nr (p0,f,der_f,max_iter,tol,true_root = \"None\"):\n",
    "    output = []\n",
    "    cols = [\"y\",\"$\\Delta y$\",\"$\\Delta y/y$\"]\n",
    "    c = True\n",
    "    i = 0\n",
    "    p = p0\n",
    "    while (c and (i<=max_iter) and (f(p)!= 0)):\n",
    "        old_p = p\n",
    "        p = p - f(p)/der_f(p)\n",
    "        output.append([old_p,np.abs(p-old_p),np.abs(p-old_p)/old_p])\n",
    "        c = (np.abs(p-old_p) >= tol) if (true_root == 'None') else (np.abs(p-true_root) >= tol)\n",
    "        i+=1\n",
    "    output.append([p,'-','-'])\n",
    "    df = pd.DataFrame(output)\n",
    "    df.columns = cols\n",
    "    return df\n",
    "        "
   ]
  },
  {
   "cell_type": "code",
   "execution_count": 103,
   "metadata": {},
   "outputs": [],
   "source": [
    "def biseccion (a,b,f,max_iter,tol,true_root = \"None\"):\n",
    "    cols = [\"a\",\"b\",\"f(a)\",\"f(b)\",\"r\",\"$\\Delta r$\",\"$\\Delta r/r$\"]\n",
    "    \n",
    "    #primera iteracion es \"especial\" y la hago fuera\n",
    "    r = (a+b)/2\n",
    "    output=[]\n",
    "    interval = f(a)*f(r)<0\n",
    "    b = r*interval+b*(~interval)\n",
    "    a = r*(~interval)+a*interval\n",
    "    #fin de la primera iteracion\n",
    "    \n",
    "    c= True\n",
    "    i=0\n",
    "    while (c and (i<=max_iter) and f(r)!=0 ):\n",
    "        old_r = r\n",
    "        r = (a+b)/2\n",
    "        \n",
    "        table_entry = [a,b,f(a),f(b),r,np.abs(r-old_r),0]\n",
    "        table_entry[6]=table_entry[5]/table_entry[4]\n",
    "        \n",
    "        if f(a)*f(r) < 0:\n",
    "            b=r\n",
    "        else:\n",
    "            a=r\n",
    "            \n",
    "        if (true_root == \"None\"):\n",
    "            c = (table_entry[5] >= tol)\n",
    "        else:\n",
    "            c = (np.abs(r-true_root) >= tol)\n",
    "        output.append(table_entry)\n",
    "        i+=1\n",
    "    df = pd.DataFrame(output)\n",
    "    df.columns = cols\n",
    "    return df;\n",
    "            "
   ]
  },
  {
   "cell_type": "code",
   "execution_count": 104,
   "metadata": {},
   "outputs": [],
   "source": [
    "def pfijo (p0,g,max_iter,tol,true_root='None'):\n",
    "    output = []\n",
    "    p = p0\n",
    "    i=0\n",
    "    c = True\n",
    "    while (c and (i<max_iter) and (g(p)!=p)):\n",
    "        old_p = p\n",
    "        p = g(p)\n",
    "        output.append([old_p,np.abs(p-old_p),np.abs(p-old_p)/old_p])\n",
    "        c = !(np.abs(p-true_root) < tol) if (true_root != 'None') else !(np.abs(p-old_p) < tol)\n",
    "        i+=1\n",
    "    output.append([p,'-','-'])\n",
    "    return pd.DataFrame(output).rename(columns=pd.Series(['y','$\\Delta y$','$\\Delta y/y$']))"
   ]
  },
  {
   "cell_type": "markdown",
   "metadata": {},
   "source": [
    "# Item 1"
   ]
  },
  {
   "cell_type": "code",
   "execution_count": 88,
   "metadata": {},
   "outputs": [],
   "source": [
    "bisec1 = biseccion(1,2,f,200,tolerancia,np.sqrt(L0**2-a**2))"
   ]
  },
  {
   "cell_type": "code",
   "execution_count": 89,
   "metadata": {},
   "outputs": [],
   "source": [
    "pd.set_option('precision',5)"
   ]
  },
  {
   "cell_type": "code",
   "execution_count": 90,
   "metadata": {
    "scrolled": true
   },
   "outputs": [
    {
     "name": "stdout",
     "output_type": "stream",
     "text": [
      "\\begin{longtable}{lrrrrrrr}\n",
      "\\toprule\n",
      "{} &        a &        b &         f(a) &         f(b) &        r &     \\Delta r &   \\Delta r/r \\\\\n",
      "\\midrule\n",
      "\\endhead\n",
      "\\midrule\n",
      "\\multicolumn{8}{r}{{Continued on next page}} \\\\\n",
      "\\midrule\n",
      "\\endfoot\n",
      "\n",
      "\\bottomrule\n",
      "\\endlastfoot\n",
      "0  &  1.50000 &  2.00000 &  3.04904e+00 & -4.47335e+00 &  1.75000 &  2.50000e-01 &  1.42857e-01 \\\\\n",
      "1  &  1.50000 &  1.75000 &  3.04904e+00 & -5.13382e-01 &  1.62500 &  1.25000e-01 &  7.69231e-02 \\\\\n",
      "2  &  1.62500 &  1.75000 &  1.32787e+00 & -5.13382e-01 &  1.68750 &  6.25000e-02 &  3.70370e-02 \\\\\n",
      "3  &  1.68750 &  1.75000 &  4.20780e-01 & -5.13382e-01 &  1.71875 &  3.12500e-02 &  1.81818e-02 \\\\\n",
      "4  &  1.68750 &  1.71875 &  4.20780e-01 & -4.30840e-02 &  1.70312 &  1.56250e-02 &  9.17431e-03 \\\\\n",
      "5  &  1.70312 &  1.71875 &  1.89672e-01 & -4.30840e-02 &  1.71094 &  7.81250e-03 &  4.56621e-03 \\\\\n",
      "6  &  1.71094 &  1.71875 &  7.34977e-02 & -4.30840e-02 &  1.71484 &  3.90625e-03 &  2.27790e-03 \\\\\n",
      "7  &  1.71484 &  1.71875 &  1.52574e-02 & -4.30840e-02 &  1.71680 &  1.95312e-03 &  1.13766e-03 \\\\\n",
      "8  &  1.71484 &  1.71680 &  1.52574e-02 & -1.39007e-02 &  1.71582 &  9.76562e-04 &  5.69152e-04 \\\\\n",
      "9  &  1.71582 &  1.71680 &  6.81508e-04 & -1.39007e-02 &  1.71631 &  4.88281e-04 &  2.84495e-04 \\\\\n",
      "39 &  1.71587 &  1.71587 &  2.31647e-12 & -1.12623e-11 &  1.71587 &  4.54747e-13 &  2.65025e-13 \\\\\n",
      "40 &  1.71587 &  1.71587 &  2.31647e-12 & -4.47293e-12 &  1.71587 &  2.27374e-13 &  1.32512e-13 \\\\\n",
      "41 &  1.71587 &  1.71587 &  2.31647e-12 & -1.07442e-12 &  1.71587 &  1.13687e-13 &  6.62562e-14 \\\\\n",
      "42 &  1.71587 &  1.71587 &  6.24838e-13 & -1.07442e-12 &  1.71587 &  5.68434e-14 &  3.31281e-14 \\\\\n",
      "43 &  1.71587 &  1.71587 &  6.24838e-13 & -2.24789e-13 &  1.71587 &  2.84217e-14 &  1.65641e-14 \\\\\n",
      "44 &  1.71587 &  1.71587 &  1.98119e-13 & -2.24789e-13 &  1.71587 &  1.42109e-14 &  8.28203e-15 \\\\\n",
      "45 &  1.71587 &  1.71587 &  1.98119e-13 & -1.52400e-14 &  1.71587 &  7.10543e-15 &  4.14102e-15 \\\\\n",
      "46 &  1.71587 &  1.71587 &  9.14397e-14 & -1.52400e-14 &  1.71587 &  3.55271e-15 &  2.07051e-15 \\\\\n",
      "47 &  1.71587 &  1.71587 &  3.80999e-14 & -1.52400e-14 &  1.71587 &  1.77636e-15 &  1.03525e-15 \\\\\n",
      "48 &  1.71587 &  1.71587 &  1.52400e-14 & -1.52400e-14 &  1.71587 &  8.88178e-16 &  5.17627e-16 \\\\\n",
      "\\end{longtable}\n",
      "\n"
     ]
    }
   ],
   "source": [
    "print(pd.concat([bisec1.head(10),bisec1.tail(10)]).to_latex(longtable=True,escape=False))"
   ]
  },
  {
   "cell_type": "code",
   "execution_count": 99,
   "metadata": {},
   "outputs": [],
   "source": [
    "nr1 = nr(der_f=der_f,f=f,p0=2,tol=tolerancia,true_root=np.sqrt(L0**2-a**2),max_iter=30)"
   ]
  },
  {
   "cell_type": "code",
   "execution_count": 101,
   "metadata": {},
   "outputs": [
    {
     "name": "stdout",
     "output_type": "stream",
     "text": [
      "\\begin{longtable}{lrll}\n",
      "\\toprule\n",
      "{} &               y &             deltay &           deltay/y \\\\\n",
      "\\midrule\n",
      "\\endhead\n",
      "\\midrule\n",
      "\\multicolumn{4}{r}{{Continued on next page}} \\\\\n",
      "\\midrule\n",
      "\\endfoot\n",
      "\n",
      "\\bottomrule\n",
      "\\endlastfoot\n",
      "0 &  2.000000000000 &     0.271980349388 &     0.135990174694 \\\\\n",
      "1 &  1.728019650612 &    0.0121215400159 &   0.00701470033145 \\\\\n",
      "2 &  1.715898110596 &  3.21482355439e-05 &  1.87355154396e-05 \\\\\n",
      "3 &  1.715865962360 &  2.29059882173e-10 &    1.334952072e-10 \\\\\n",
      "4 &  1.715865962131 &                  - &                  - \\\\\n",
      "\\end{longtable}\n",
      "\n"
     ]
    }
   ],
   "source": [
    "pd.set_option('precision',12)\n",
    "print(nr1.to_latex(longtable=True,escape=False))"
   ]
  },
  {
   "cell_type": "code",
   "execution_count": 96,
   "metadata": {},
   "outputs": [],
   "source": [
    "pf1 = pfijo(1.5,g,200,tolerancia,true_root=np.sqrt(L0**2-a**2))"
   ]
  },
  {
   "cell_type": "code",
   "execution_count": 97,
   "metadata": {
    "scrolled": true
   },
   "outputs": [
    {
     "name": "stdout",
     "output_type": "stream",
     "text": [
      "\\begin{longtable}{lrll}\n",
      "\\toprule\n",
      "{} &        y &    \\Delta y &  \\Delta y/y \\\\\n",
      "\\midrule\n",
      "\\endhead\n",
      "\\midrule\n",
      "\\multicolumn{4}{r}{{Continued on next page}} \\\\\n",
      "\\midrule\n",
      "\\endfoot\n",
      "\n",
      "\\bottomrule\n",
      "\\endlastfoot\n",
      "0  &  1.50000 &     0.15245 &     0.10163 \\\\\n",
      "1  &  1.65245 &    0.046648 &     0.02823 \\\\\n",
      "2  &  1.69910 &    0.012468 &   0.0073382 \\\\\n",
      "3  &  1.71157 &   0.0032051 &   0.0018726 \\\\\n",
      "4  &  1.71477 &  0.00081547 &  0.00047555 \\\\\n",
      "5  &  1.71559 &  0.00020694 &  0.00012062 \\\\\n",
      "6  &  1.71580 &  5.2478e-05 &  3.0585e-05 \\\\\n",
      "7  &  1.71585 &  1.3306e-05 &  7.7547e-06 \\\\\n",
      "8  &  1.71586 &  3.3736e-06 &  1.9661e-06 \\\\\n",
      "9  &  1.71586 &  8.5533e-07 &  4.9848e-07 \\\\\n",
      "10 &  1.71587 &  2.1686e-07 &  1.2638e-07 \\\\\n",
      "11 &  1.71587 &  5.4982e-08 &  3.2043e-08 \\\\\n",
      "12 &  1.71587 &   1.394e-08 &  8.1241e-09 \\\\\n",
      "13 &  1.71587 &  3.5343e-09 &  2.0598e-09 \\\\\n",
      "14 &  1.71587 &  8.9607e-10 &  5.2223e-10 \\\\\n",
      "15 &  1.71587 &  2.2719e-10 &   1.324e-10 \\\\\n",
      "16 &  1.71587 &    5.76e-11 &  3.3569e-11 \\\\\n",
      "17 &  1.71587 &  1.4604e-11 &  8.5111e-12 \\\\\n",
      "18 &  1.71587 &  3.7026e-12 &  2.1579e-12 \\\\\n",
      "19 &  1.71587 &  9.3858e-13 &    5.47e-13 \\\\\n",
      "20 &  1.71587 &  2.3803e-13 &  1.3872e-13 \\\\\n",
      "21 &  1.71587 &  6.0396e-14 &  3.5199e-14 \\\\\n",
      "22 &  1.71587 &  1.5321e-14 &  8.9291e-15 \\\\\n",
      "23 &  1.71587 &  3.9968e-15 &  2.3293e-15 \\\\\n",
      "24 &  1.71587 &  8.8818e-16 &  5.1763e-16 \\\\\n",
      "25 &  1.71587 &           - &           - \\\\\n",
      "\\end{longtable}\n",
      "\n"
     ]
    }
   ],
   "source": [
    "print(pf1.to_latex(longtable=True,escape=False))"
   ]
  },
  {
   "cell_type": "markdown",
   "metadata": {},
   "source": [
    "#### Punto fijo no converge porque la 'g' usada no tiene |g'| < 1 en un intervalo que contiene al punto fijo, tenemos que usar una g distinta a la que dice el enunciado."
   ]
  },
  {
   "cell_type": "code",
   "execution_count": 56,
   "metadata": {},
   "outputs": [],
   "source": [
    "import seaborn as sns"
   ]
  },
  {
   "cell_type": "code",
   "execution_count": 57,
   "metadata": {
    "scrolled": false
   },
   "outputs": [
    {
     "data": {
      "image/png": "[encoded data removed]",
      "text/plain": [
       "<Figure size 720x360 with 1 Axes>"
      ]
     },
     "metadata": {},
     "output_type": "display_data"
    }
   ],
   "source": [
    "sns.set()\n",
    "fig,ax=plt.subplots(figsize=(10,5))\n",
    "sns.lineplot(ax=ax,data=nr1['deltay'],label='Newton-Raphson')\n",
    "sns.lineplot(ax=ax,data=bisec1['\\Delta r'].astype(float),label='Bisección')\n",
    "sns.lineplot(ax=ax,data=pf1['\\Delta y'].astype(float),label='Punto Fijo')\n",
    "plt.title('Diferencia entre iteraciones segun numero de iteración')\n",
    "plt.xlabel('# Iteración')\n",
    "plt.ylabel('Diferencia entre iteraciones')\n",
    "plt.show()"
   ]
  },
  {
   "cell_type": "markdown",
   "metadata": {},
   "source": [
    "### No se puede tomar dos iteraciones consecutivas como cota del error absoluto de truncamiento, el error absoluto puede ser mayor a la diferencia entre dos iteraciones consecutivas."
   ]
  },
  {
   "cell_type": "markdown",
   "metadata": {},
   "source": [
    "## Item 2"
   ]
  },
  {
   "cell_type": "code",
   "execution_count": 58,
   "metadata": {},
   "outputs": [
    {
     "data": {
      "text/plain": [
       "[<matplotlib.lines.Line2D at 0x7fe40cce2978>]"
      ]
     },
     "execution_count": 58,
     "metadata": {},
     "output_type": "execute_result"
    },
    {
     "data": {
      "image/png": "[encoded data removed]",
      "text/plain": [
       "<Figure size 432x288 with 1 Axes>"
      ]
     },
     "metadata": {},
     "output_type": "display_data"
    }
   ],
   "source": [
    "plt.plot(Function(0.3).calc(np.arange(-3,3,0.00001)))"
   ]
  },
  {
   "cell_type": "markdown",
   "metadata": {},
   "source": [
    "### Biseccion"
   ]
  },
  {
   "cell_type": "code",
   "execution_count": 117,
   "metadata": {},
   "outputs": [],
   "source": [
    "pd.set_option('precision',5)"
   ]
  },
  {
   "cell_type": "code",
   "execution_count": 118,
   "metadata": {},
   "outputs": [],
   "source": [
    "bisec1=biseccion(a=-3,b=0,f=Function(0.3).calc,max_iter=200,tol=tolerancia)"
   ]
  },
  {
   "cell_type": "code",
   "execution_count": 119,
   "metadata": {
    "scrolled": true
   },
   "outputs": [
    {
     "name": "stdout",
     "output_type": "stream",
     "text": [
      "\\begin{longtable}{lrrrrrrr}\n",
      "\\toprule\n",
      "{} &        a &        b &         f(a) &         f(b) &        r &   $\\Delta r$ &  $\\Delta r/r$ \\\\\n",
      "\\midrule\n",
      "\\endhead\n",
      "\\midrule\n",
      "\\multicolumn{8}{r}{{Continued on next page}} \\\\\n",
      "\\midrule\n",
      "\\endfoot\n",
      "\n",
      "\\bottomrule\n",
      "\\endlastfoot\n",
      "0  & -3.00000 & -1.50000 &  1.93959e+01 & -5.97144e+00 & -2.25000 &  7.50000e-01 &  -3.33333e-01 \\\\\n",
      "1  & -2.25000 & -1.50000 &  5.78101e+00 & -5.97144e+00 & -1.87500 &  3.75000e-01 &  -2.00000e-01 \\\\\n",
      "2  & -2.25000 & -1.87500 &  5.78101e+00 & -4.69458e-01 & -2.06250 &  1.87500e-01 &  -9.09091e-02 \\\\\n",
      "3  & -2.06250 & -1.87500 &  2.58698e+00 & -4.69458e-01 & -1.96875 &  9.37500e-02 &  -4.76190e-02 \\\\\n",
      "4  & -1.96875 & -1.87500 &  1.03909e+00 & -4.69458e-01 & -1.92188 &  4.68750e-02 &  -2.43902e-02 \\\\\n",
      "5  & -1.92188 & -1.87500 &  2.79541e-01 & -4.69458e-01 & -1.89844 &  2.34375e-02 &  -1.23457e-02 \\\\\n",
      "6  & -1.92188 & -1.89844 &  2.79541e-01 & -9.63246e-02 & -1.91016 &  1.17188e-02 &  -6.13497e-03 \\\\\n",
      "7  & -1.91016 & -1.89844 &  9.12728e-02 & -9.63246e-02 & -1.90430 &  5.85938e-03 &  -3.07692e-03 \\\\\n",
      "8  & -1.91016 & -1.90430 &  9.12728e-02 & -2.61050e-03 & -1.90723 &  2.92969e-03 &  -1.53610e-03 \\\\\n",
      "9  & -1.90723 & -1.90430 &  4.43101e-02 & -2.61050e-03 & -1.90576 &  1.46484e-03 &  -7.68640e-04 \\\\\n",
      "42 & -1.90446 & -1.90446 &  4.22773e-13 & -5.03997e-12 & -1.90446 &  1.70530e-13 &  -8.95426e-14 \\\\\n",
      "43 & -1.90446 & -1.90446 &  4.22773e-13 & -2.30838e-12 & -1.90446 &  8.52651e-14 &  -4.47713e-14 \\\\\n",
      "44 & -1.90446 & -1.90446 &  4.22773e-13 & -9.42801e-13 & -1.90446 &  4.26326e-14 &  -2.23856e-14 \\\\\n",
      "45 & -1.90446 & -1.90446 &  4.22773e-13 & -2.60236e-13 & -1.90446 &  2.13163e-14 &  -1.11928e-14 \\\\\n",
      "46 & -1.90446 & -1.90446 &  7.72715e-14 & -2.60236e-13 & -1.90446 &  1.06581e-14 &  -5.59641e-15 \\\\\n",
      "47 & -1.90446 & -1.90446 &  7.72715e-14 & -9.14824e-14 & -1.90446 &  5.32907e-15 &  -2.79821e-15 \\\\\n",
      "48 & -1.90446 & -1.90446 &  7.72715e-14 & -1.15463e-14 & -1.90446 &  2.66454e-15 &  -1.39910e-15 \\\\\n",
      "49 & -1.90446 & -1.90446 &  3.90799e-14 & -1.15463e-14 & -1.90446 &  1.33227e-15 &  -6.99551e-16 \\\\\n",
      "50 & -1.90446 & -1.90446 &  1.19904e-14 & -1.15463e-14 & -1.90446 &  6.66134e-16 &  -3.49776e-16 \\\\\n",
      "51 & -1.90446 & -1.90446 &  6.66134e-15 & -1.15463e-14 & -1.90446 &  2.22045e-16 &  -1.16592e-16 \\\\\n",
      "\\end{longtable}\n",
      "\n"
     ]
    }
   ],
   "source": [
    "print(pd.concat([bisec1.head(10),bisec1.tail(10)]).to_latex(longtable=True,escape=False))"
   ]
  },
  {
   "cell_type": "code",
   "execution_count": 120,
   "metadata": {},
   "outputs": [],
   "source": [
    "bisec2=biseccion(a=0,b=1,f=Function(0.3).calc,max_iter=200,tol=tolerancia)"
   ]
  },
  {
   "cell_type": "code",
   "execution_count": 121,
   "metadata": {
    "scrolled": true
   },
   "outputs": [
    {
     "name": "stdout",
     "output_type": "stream",
     "text": [
      "\\begin{longtable}{lrrrrrrr}\n",
      "\\toprule\n",
      "{} &        a &        b &         f(a) &         f(b) &        r &   $\\Delta r$ &  $\\Delta r/r$ \\\\\n",
      "\\midrule\n",
      "\\endhead\n",
      "\\midrule\n",
      "\\multicolumn{8}{r}{{Continued on next page}} \\\\\n",
      "\\midrule\n",
      "\\endfoot\n",
      "\n",
      "\\bottomrule\n",
      "\\endlastfoot\n",
      "0  &  0.00000 &  0.50000 & -2.92240e+00 &  4.84093e+00 &  0.25000 &  2.50000e-01 &   1.00000e+00 \\\\\n",
      "1  &  0.00000 &  0.25000 & -2.92240e+00 &  1.71112e+00 &  0.12500 &  1.25000e-01 &   1.00000e+00 \\\\\n",
      "2  &  0.12500 &  0.25000 & -4.95739e-01 &  1.71112e+00 &  0.18750 &  6.25000e-02 &   3.33333e-01 \\\\\n",
      "3  &  0.12500 &  0.18750 & -4.95739e-01 &  6.47542e-01 &  0.15625 &  3.12500e-02 &   2.00000e-01 \\\\\n",
      "4  &  0.12500 &  0.15625 & -4.95739e-01 &  8.44507e-02 &  0.14062 &  1.56250e-02 &   1.11111e-01 \\\\\n",
      "5  &  0.14062 &  0.15625 & -2.03697e-01 &  8.44507e-02 &  0.14844 &  7.81250e-03 &   5.26316e-02 \\\\\n",
      "6  &  0.14844 &  0.15625 & -5.91121e-02 &  8.44507e-02 &  0.15234 &  3.90625e-03 &   2.56410e-02 \\\\\n",
      "7  &  0.14844 &  0.15234 & -5.91121e-02 &  1.28001e-02 &  0.15039 &  1.95312e-03 &   1.29870e-02 \\\\\n",
      "8  &  0.15039 &  0.15234 & -2.31237e-02 &  1.28001e-02 &  0.15137 &  9.76562e-04 &   6.45161e-03 \\\\\n",
      "9  &  0.15137 &  0.15234 & -5.15367e-03 &  1.28001e-02 &  0.15186 &  4.88281e-04 &   3.21543e-03 \\\\\n",
      "40 &  0.15165 &  0.15165 & -7.30571e-12 &  1.05649e-12 &  0.15165 &  2.27374e-13 &   1.49936e-12 \\\\\n",
      "41 &  0.15165 &  0.15165 & -3.12550e-12 &  1.05649e-12 &  0.15165 &  1.13687e-13 &   7.49679e-13 \\\\\n",
      "42 &  0.15165 &  0.15165 & -1.03340e-12 &  1.05649e-12 &  0.15165 &  5.68434e-14 &   3.74839e-13 \\\\\n",
      "43 &  0.15165 &  0.15165 & -1.03340e-12 &  1.06581e-14 &  0.15165 &  2.84217e-14 &   1.87420e-13 \\\\\n",
      "44 &  0.15165 &  0.15165 & -5.12035e-13 &  1.06581e-14 &  0.15165 &  1.42109e-14 &   9.37098e-14 \\\\\n",
      "45 &  0.15165 &  0.15165 & -2.50910e-13 &  1.06581e-14 &  0.15165 &  7.10543e-15 &   4.68549e-14 \\\\\n",
      "46 &  0.15165 &  0.15165 & -1.19460e-13 &  1.06581e-14 &  0.15165 &  3.55271e-15 &   2.34275e-14 \\\\\n",
      "47 &  0.15165 &  0.15165 & -5.37348e-14 &  1.06581e-14 &  0.15165 &  1.77636e-15 &   1.17137e-14 \\\\\n",
      "48 &  0.15165 &  0.15165 & -2.22045e-14 &  1.06581e-14 &  0.15165 &  8.88178e-16 &   5.85686e-15 \\\\\n",
      "49 &  0.15165 &  0.15165 & -4.88498e-15 &  1.06581e-14 &  0.15165 &  4.44089e-16 &   2.92843e-15 \\\\\n",
      "\\end{longtable}\n",
      "\n"
     ]
    }
   ],
   "source": [
    "print(pd.concat([bisec2.head(10),bisec2.tail(10)]).to_latex(longtable=True,escape=False))"
   ]
  },
  {
   "cell_type": "code",
   "execution_count": 122,
   "metadata": {},
   "outputs": [],
   "source": [
    "bisec3=biseccion(a=1,b=2,f=Function(0.3).calc,max_iter=200,tol=tolerancia)"
   ]
  },
  {
   "cell_type": "code",
   "execution_count": 123,
   "metadata": {
    "scrolled": true
   },
   "outputs": [
    {
     "name": "stdout",
     "output_type": "stream",
     "text": [
      "\\begin{longtable}{lrrrrrrr}\n",
      "\\toprule\n",
      "{} &        a &        b &         f(a) &         f(b) &        r &   $\\Delta r$ &  $\\Delta r/r$ \\\\\n",
      "\\midrule\n",
      "\\endhead\n",
      "\\midrule\n",
      "\\multicolumn{8}{r}{{Continued on next page}} \\\\\n",
      "\\midrule\n",
      "\\endfoot\n",
      "\n",
      "\\bottomrule\n",
      "\\endlastfoot\n",
      "0  &  1.50000 &  2.00000 &  1.26639e-01 & -7.39575e+00 &  1.75000 &  2.50000e-01 &   1.42857e-01 \\\\\n",
      "1  &  1.50000 &  1.75000 &  1.26639e-01 & -3.43578e+00 &  1.62500 &  1.25000e-01 &   7.69231e-02 \\\\\n",
      "2  &  1.50000 &  1.62500 &  1.26639e-01 & -1.59453e+00 &  1.56250 &  6.25000e-02 &   4.00000e-02 \\\\\n",
      "3  &  1.50000 &  1.56250 &  1.26639e-01 & -7.17379e-01 &  1.53125 &  3.12500e-02 &   2.04082e-02 \\\\\n",
      "4  &  1.50000 &  1.53125 &  1.26639e-01 & -2.91015e-01 &  1.51562 &  1.56250e-02 &   1.03093e-02 \\\\\n",
      "5  &  1.50000 &  1.51562 &  1.26639e-01 & -8.10710e-02 &  1.50781 &  7.81250e-03 &   5.18135e-03 \\\\\n",
      "6  &  1.50781 &  1.51562 &  2.30667e-02 & -8.10710e-02 &  1.51172 &  3.90625e-03 &   2.58398e-03 \\\\\n",
      "7  &  1.50781 &  1.51172 &  2.30667e-02 & -2.89319e-02 &  1.50977 &  1.95312e-03 &   1.29366e-03 \\\\\n",
      "8  &  1.50781 &  1.50977 &  2.30667e-02 & -2.91502e-03 &  1.50879 &  9.76562e-04 &   6.47249e-04 \\\\\n",
      "9  &  1.50879 &  1.50977 &  1.00802e-02 & -2.91502e-03 &  1.50928 &  4.88281e-04 &   3.23520e-04 \\\\\n",
      "40 &  1.50955 &  1.50955 &  1.25455e-12 & -4.79661e-12 &  1.50955 &  2.27374e-13 &   1.50624e-13 \\\\\n",
      "41 &  1.50955 &  1.50955 &  1.25455e-12 & -1.77103e-12 &  1.50955 &  1.13687e-13 &   7.53119e-14 \\\\\n",
      "42 &  1.50955 &  1.50955 &  1.25455e-12 & -2.61569e-13 &  1.50955 &  5.68434e-14 &   3.76560e-14 \\\\\n",
      "43 &  1.50955 &  1.50955 &  4.93383e-13 & -2.61569e-13 &  1.50955 &  2.84217e-14 &   1.88280e-14 \\\\\n",
      "44 &  1.50955 &  1.50955 &  1.19016e-13 & -2.61569e-13 &  1.50955 &  1.42109e-14 &   9.41399e-15 \\\\\n",
      "45 &  1.50955 &  1.50955 &  1.19016e-13 & -6.79456e-14 &  1.50955 &  7.10543e-15 &   4.70699e-15 \\\\\n",
      "46 &  1.50955 &  1.50955 &  2.57572e-14 & -6.79456e-14 &  1.50955 &  3.55271e-15 &   2.35350e-15 \\\\\n",
      "47 &  1.50955 &  1.50955 &  2.57572e-14 & -2.79776e-14 &  1.50955 &  1.77636e-15 &   1.17675e-15 \\\\\n",
      "48 &  1.50955 &  1.50955 &  2.22045e-15 & -2.79776e-14 &  1.50955 &  8.88178e-16 &   5.88374e-16 \\\\\n",
      "49 &  1.50955 &  1.50955 &  2.22045e-15 & -9.32587e-15 &  1.50955 &  4.44089e-16 &   2.94187e-16 \\\\\n",
      "\\end{longtable}\n",
      "\n"
     ]
    }
   ],
   "source": [
    "print(pd.concat([bisec3.head(10),bisec3.tail(10)]).to_latex(longtable=True,escape=False))"
   ]
  },
  {
   "cell_type": "markdown",
   "metadata": {},
   "source": [
    "### Newton-Raphson"
   ]
  },
  {
   "cell_type": "code",
   "execution_count": 150,
   "metadata": {},
   "outputs": [],
   "source": [
    "pd.set_option('precision',12)"
   ]
  },
  {
   "cell_type": "code",
   "execution_count": 154,
   "metadata": {},
   "outputs": [],
   "source": [
    "nr1 = nr(f=Function(0.3).calc,der_f=der_f,p0=-2,max_iter=20,tol=tolerancia)"
   ]
  },
  {
   "cell_type": "code",
   "execution_count": 155,
   "metadata": {},
   "outputs": [
    {
     "name": "stdout",
     "output_type": "stream",
     "text": [
      "\\begin{longtable}{lrll}\n",
      "\\toprule\n",
      "{} &               y &         $\\Delta y$ &       $\\Delta y/y$ \\\\\n",
      "\\midrule\n",
      "\\endhead\n",
      "\\midrule\n",
      "\\multicolumn{4}{r}{{Continued on next page}} \\\\\n",
      "\\midrule\n",
      "\\endfoot\n",
      "\n",
      "\\bottomrule\n",
      "\\endlastfoot\n",
      "0 & -2.000000000000 &    0.0942981312701 &   -0.0471490656351 \\\\\n",
      "1 & -1.905701868730 &   0.00124168975694 & -0.000651565587102 \\\\\n",
      "2 & -1.904460178973 &  2.36994192715e-07 & -1.24441663486e-07 \\\\\n",
      "3 & -1.904459941979 &    8.881784197e-15 & -4.66367603814e-15 \\\\\n",
      "4 & -1.904459941979 &  2.22044604925e-16 & -1.16591900953e-16 \\\\\n",
      "5 & -1.904459941979 &                  - &                  - \\\\\n",
      "\\end{longtable}\n",
      "\n"
     ]
    }
   ],
   "source": [
    "print(nr1.to_latex(longtable=True,escape=False))"
   ]
  },
  {
   "cell_type": "code",
   "execution_count": 156,
   "metadata": {},
   "outputs": [],
   "source": [
    "nr2 = nr(f=Function(0.3).calc,der_f=der_f,p0=0.5,max_iter=20,tol=tolerancia)"
   ]
  },
  {
   "cell_type": "code",
   "execution_count": 157,
   "metadata": {},
   "outputs": [
    {
     "name": "stdout",
     "output_type": "stream",
     "text": [
      "\\begin{longtable}{lrll}\n",
      "\\toprule\n",
      "{} &               y &         $\\Delta y$ &       $\\Delta y/y$ \\\\\n",
      "\\midrule\n",
      "\\endhead\n",
      "\\midrule\n",
      "\\multicolumn{4}{r}{{Continued on next page}} \\\\\n",
      "\\midrule\n",
      "\\endfoot\n",
      "\n",
      "\\bottomrule\n",
      "\\endlastfoot\n",
      "0 &  0.500000000000 &     0.574841701872 &      1.14968340374 \\\\\n",
      "1 & -0.074841701872 &     0.226421057817 &      -3.0253328312 \\\\\n",
      "2 &  0.151579355945 &  6.80635857979e-05 &  0.000449029390405 \\\\\n",
      "3 &  0.151647419531 &  2.14993228775e-09 &  1.41771768647e-08 \\\\\n",
      "4 &  0.151647421680 &                  - &                  - \\\\\n",
      "\\end{longtable}\n",
      "\n"
     ]
    }
   ],
   "source": [
    "print(nr2.to_latex(longtable=True,escape=False))"
   ]
  },
  {
   "cell_type": "code",
   "execution_count": 158,
   "metadata": {},
   "outputs": [
    {
     "name": "stdout",
     "output_type": "stream",
     "text": [
      "\\begin{longtable}{lrll}\n",
      "\\toprule\n",
      "{} &               y &         $\\Delta y$ &       $\\Delta y/y$ \\\\\n",
      "\\midrule\n",
      "\\endhead\n",
      "\\midrule\n",
      "\\multicolumn{4}{r}{{Continued on next page}} \\\\\n",
      "\\midrule\n",
      "\\endfoot\n",
      "\n",
      "\\bottomrule\n",
      "\\endlastfoot\n",
      "0 &  1.500000000000 &   0.00957881150245 &   0.00638587433497 \\\\\n",
      "1 &  1.509578811502 &  3.21854092622e-05 &  2.13207876376e-05 \\\\\n",
      "2 &  1.509546626093 &  3.59600349498e-10 &  2.38217451042e-10 \\\\\n",
      "3 &  1.509546625734 &  2.22044604925e-16 &  1.47093571765e-16 \\\\\n",
      "4 &  1.509546625734 &                  - &                  - \\\\\n",
      "\\end{longtable}\n",
      "\n"
     ]
    }
   ],
   "source": [
    "nr3 = nr(f=Function(0.3).calc,der_f=der_f,p0=1.5,max_iter=20,tol=tolerancia)\n",
    "print(nr3.to_latex(longtable=True,escape=False))"
   ]
  },
  {
   "cell_type": "markdown",
   "metadata": {},
   "source": [
    "### Punto fijo"
   ]
  },
  {
   "cell_type": "code",
   "execution_count": 146,
   "metadata": {},
   "outputs": [],
   "source": [
    "pd.set_option('precision',7)"
   ]
  },
  {
   "cell_type": "code",
   "execution_count": 147,
   "metadata": {},
   "outputs": [],
   "source": [
    "pf1 = pfijo(g=Function_g(0.3).calc,p0=-2,max_iter=200,tol=tolerancia)\n",
    "pf2 = pfijo(g=Function_g(0.3).calc,p0=0.2,max_iter=200,tol=tolerancia)\n",
    "pf3 = pfijo(g=Function_g(0.3).calc,p0=1.5,max_iter=200,tol=tolerancia)"
   ]
  },
  {
   "cell_type": "code",
   "execution_count": 148,
   "metadata": {
    "scrolled": true
   },
   "outputs": [
    {
     "name": "stdout",
     "output_type": "stream",
     "text": [
      "\\begin{longtable}{lrll}\n",
      "\\toprule\n",
      "{} &          y &    $\\Delta y$ &  $\\Delta y/y$ \\\\\n",
      "\\midrule\n",
      "\\endhead\n",
      "\\midrule\n",
      "\\multicolumn{4}{r}{{Continued on next page}} \\\\\n",
      "\\midrule\n",
      "\\endfoot\n",
      "\n",
      "\\bottomrule\n",
      "\\endlastfoot\n",
      "0  & -2.0000000 &    0.07754765 &   -0.03877382 \\\\\n",
      "1  & -1.9224524 &    0.01444168 &  -0.007512116 \\\\\n",
      "2  & -1.9080107 &   0.002843756 &   -0.00149043 \\\\\n",
      "3  & -1.9051669 &  0.0005659602 & -0.0002970659 \\\\\n",
      "4  & -1.9046010 &  0.0001128738 & -5.926375e-05 \\\\\n",
      "5  & -1.9044881 &  2.252072e-05 & -1.182508e-05 \\\\\n",
      "6  & -1.9044656 &  4.493738e-06 &  -2.35958e-06 \\\\\n",
      "7  & -1.9044611 &  8.966863e-07 & -4.708347e-07 \\\\\n",
      "8  & -1.9044602 &  1.789265e-07 & -9.395131e-08 \\\\\n",
      "9  & -1.9044600 &  3.570337e-08 & -1.874724e-08 \\\\\n",
      "10 & -1.9044600 &  7.124325e-09 & -3.740864e-09 \\\\\n",
      "11 & -1.9044599 &  1.421603e-09 & -7.464598e-10 \\\\\n",
      "12 & -1.9044599 &  2.836695e-10 & -1.489501e-10 \\\\\n",
      "13 & -1.9044599 &  5.660405e-11 & -2.972184e-11 \\\\\n",
      "14 & -1.9044599 &  1.129496e-11 & -5.930797e-12 \\\\\n",
      "15 & -1.9044599 &  2.253309e-12 & -1.183175e-12 \\\\\n",
      "16 & -1.9044599 &  4.498624e-13 & -2.362152e-13 \\\\\n",
      "17 & -1.9044599 &  8.970602e-14 & -4.710313e-14 \\\\\n",
      "18 & -1.9044599 &  1.820766e-14 & -9.560536e-15 \\\\\n",
      "19 & -1.9044599 &  3.552714e-15 &  -1.86547e-15 \\\\\n",
      "20 & -1.9044599 &  4.440892e-16 & -2.331838e-16 \\\\\n",
      "21 & -1.9044599 &  4.440892e-16 & -2.331838e-16 \\\\\n",
      "22 & -1.9044599 &             - &             - \\\\\n",
      "\\end{longtable}\n",
      "\n"
     ]
    }
   ],
   "source": [
    "print(pf1.to_latex(longtable=True,escape=False))"
   ]
  },
  {
   "cell_type": "code",
   "execution_count": 135,
   "metadata": {
    "collapsed": true
   },
   "outputs": [
    {
     "data": {
      "text/html": [
       "<div>\n",
       "<style scoped>\n",
       "    .dataframe tbody tr th:only-of-type {\n",
       "        vertical-align: middle;\n",
       "    }\n",
       "\n",
       "    .dataframe tbody tr th {\n",
       "        vertical-align: top;\n",
       "    }\n",
       "\n",
       "    .dataframe thead th {\n",
       "        text-align: right;\n",
       "    }\n",
       "</style>\n",
       "<table border=\"1\" class=\"dataframe\">\n",
       "  <thead>\n",
       "    <tr style=\"text-align: right;\">\n",
       "      <th></th>\n",
       "      <th>y</th>\n",
       "      <th>$\\Delta y$</th>\n",
       "      <th>$\\Delta y/y$</th>\n",
       "    </tr>\n",
       "  </thead>\n",
       "  <tbody>\n",
       "    <tr>\n",
       "      <th>0</th>\n",
       "      <td>0.20000</td>\n",
       "      <td>0.043367</td>\n",
       "      <td>0.21683</td>\n",
       "    </tr>\n",
       "    <tr>\n",
       "      <th>1</th>\n",
       "      <td>0.24337</td>\n",
       "      <td>0.080133</td>\n",
       "      <td>0.32927</td>\n",
       "    </tr>\n",
       "    <tr>\n",
       "      <th>2</th>\n",
       "      <td>0.32350</td>\n",
       "      <td>0.14166</td>\n",
       "      <td>0.4379</td>\n",
       "    </tr>\n",
       "    <tr>\n",
       "      <th>3</th>\n",
       "      <td>0.46516</td>\n",
       "      <td>0.22634</td>\n",
       "      <td>0.48659</td>\n",
       "    </tr>\n",
       "    <tr>\n",
       "      <th>4</th>\n",
       "      <td>0.69150</td>\n",
       "      <td>0.29194</td>\n",
       "      <td>0.42218</td>\n",
       "    </tr>\n",
       "    <tr>\n",
       "      <th>5</th>\n",
       "      <td>0.98344</td>\n",
       "      <td>0.26298</td>\n",
       "      <td>0.26741</td>\n",
       "    </tr>\n",
       "    <tr>\n",
       "      <th>6</th>\n",
       "      <td>1.24642</td>\n",
       "      <td>0.15653</td>\n",
       "      <td>0.12558</td>\n",
       "    </tr>\n",
       "    <tr>\n",
       "      <th>7</th>\n",
       "      <td>1.40295</td>\n",
       "      <td>0.068154</td>\n",
       "      <td>0.048579</td>\n",
       "    </tr>\n",
       "    <tr>\n",
       "      <th>8</th>\n",
       "      <td>1.47110</td>\n",
       "      <td>0.025235</td>\n",
       "      <td>0.017154</td>\n",
       "    </tr>\n",
       "    <tr>\n",
       "      <th>9</th>\n",
       "      <td>1.49634</td>\n",
       "      <td>0.0087499</td>\n",
       "      <td>0.0058475</td>\n",
       "    </tr>\n",
       "    <tr>\n",
       "      <th>10</th>\n",
       "      <td>1.50509</td>\n",
       "      <td>0.002963</td>\n",
       "      <td>0.0019686</td>\n",
       "    </tr>\n",
       "    <tr>\n",
       "      <th>11</th>\n",
       "      <td>1.50805</td>\n",
       "      <td>0.00099526</td>\n",
       "      <td>0.00065997</td>\n",
       "    </tr>\n",
       "    <tr>\n",
       "      <th>12</th>\n",
       "      <td>1.50905</td>\n",
       "      <td>0.00033339</td>\n",
       "      <td>0.00022093</td>\n",
       "    </tr>\n",
       "    <tr>\n",
       "      <th>13</th>\n",
       "      <td>1.50938</td>\n",
       "      <td>0.00011158</td>\n",
       "      <td>7.3923e-05</td>\n",
       "    </tr>\n",
       "    <tr>\n",
       "      <th>14</th>\n",
       "      <td>1.50949</td>\n",
       "      <td>3.7331e-05</td>\n",
       "      <td>2.4731e-05</td>\n",
       "    </tr>\n",
       "    <tr>\n",
       "      <th>15</th>\n",
       "      <td>1.50953</td>\n",
       "      <td>1.2488e-05</td>\n",
       "      <td>8.2731e-06</td>\n",
       "    </tr>\n",
       "    <tr>\n",
       "      <th>16</th>\n",
       "      <td>1.50954</td>\n",
       "      <td>4.1777e-06</td>\n",
       "      <td>2.7675e-06</td>\n",
       "    </tr>\n",
       "    <tr>\n",
       "      <th>17</th>\n",
       "      <td>1.50954</td>\n",
       "      <td>1.3975e-06</td>\n",
       "      <td>9.2579e-07</td>\n",
       "    </tr>\n",
       "    <tr>\n",
       "      <th>18</th>\n",
       "      <td>1.50955</td>\n",
       "      <td>4.675e-07</td>\n",
       "      <td>3.097e-07</td>\n",
       "    </tr>\n",
       "    <tr>\n",
       "      <th>19</th>\n",
       "      <td>1.50955</td>\n",
       "      <td>1.5639e-07</td>\n",
       "      <td>1.036e-07</td>\n",
       "    </tr>\n",
       "    <tr>\n",
       "      <th>20</th>\n",
       "      <td>1.50955</td>\n",
       "      <td>5.2315e-08</td>\n",
       "      <td>3.4656e-08</td>\n",
       "    </tr>\n",
       "    <tr>\n",
       "      <th>21</th>\n",
       "      <td>1.50955</td>\n",
       "      <td>1.75e-08</td>\n",
       "      <td>1.1593e-08</td>\n",
       "    </tr>\n",
       "    <tr>\n",
       "      <th>22</th>\n",
       "      <td>1.50955</td>\n",
       "      <td>5.8542e-09</td>\n",
       "      <td>3.8781e-09</td>\n",
       "    </tr>\n",
       "    <tr>\n",
       "      <th>23</th>\n",
       "      <td>1.50955</td>\n",
       "      <td>1.9583e-09</td>\n",
       "      <td>1.2973e-09</td>\n",
       "    </tr>\n",
       "    <tr>\n",
       "      <th>24</th>\n",
       "      <td>1.50955</td>\n",
       "      <td>6.551e-10</td>\n",
       "      <td>4.3397e-10</td>\n",
       "    </tr>\n",
       "    <tr>\n",
       "      <th>25</th>\n",
       "      <td>1.50955</td>\n",
       "      <td>2.1914e-10</td>\n",
       "      <td>1.4517e-10</td>\n",
       "    </tr>\n",
       "    <tr>\n",
       "      <th>26</th>\n",
       "      <td>1.50955</td>\n",
       "      <td>7.3307e-11</td>\n",
       "      <td>4.8562e-11</td>\n",
       "    </tr>\n",
       "    <tr>\n",
       "      <th>27</th>\n",
       "      <td>1.50955</td>\n",
       "      <td>2.4523e-11</td>\n",
       "      <td>1.6245e-11</td>\n",
       "    </tr>\n",
       "    <tr>\n",
       "      <th>28</th>\n",
       "      <td>1.50955</td>\n",
       "      <td>8.2037e-12</td>\n",
       "      <td>5.4345e-12</td>\n",
       "    </tr>\n",
       "    <tr>\n",
       "      <th>29</th>\n",
       "      <td>1.50955</td>\n",
       "      <td>2.744e-12</td>\n",
       "      <td>1.8178e-12</td>\n",
       "    </tr>\n",
       "    <tr>\n",
       "      <th>30</th>\n",
       "      <td>1.50955</td>\n",
       "      <td>9.1793e-13</td>\n",
       "      <td>6.0808e-13</td>\n",
       "    </tr>\n",
       "    <tr>\n",
       "      <th>31</th>\n",
       "      <td>1.50955</td>\n",
       "      <td>3.0731e-13</td>\n",
       "      <td>2.0358e-13</td>\n",
       "    </tr>\n",
       "    <tr>\n",
       "      <th>32</th>\n",
       "      <td>1.50955</td>\n",
       "      <td>1.0258e-13</td>\n",
       "      <td>6.7957e-14</td>\n",
       "    </tr>\n",
       "    <tr>\n",
       "      <th>33</th>\n",
       "      <td>1.50955</td>\n",
       "      <td>3.4195e-14</td>\n",
       "      <td>2.2652e-14</td>\n",
       "    </tr>\n",
       "    <tr>\n",
       "      <th>34</th>\n",
       "      <td>1.50955</td>\n",
       "      <td>1.1546e-14</td>\n",
       "      <td>7.6489e-15</td>\n",
       "    </tr>\n",
       "    <tr>\n",
       "      <th>35</th>\n",
       "      <td>1.50955</td>\n",
       "      <td>3.9968e-15</td>\n",
       "      <td>2.6477e-15</td>\n",
       "    </tr>\n",
       "    <tr>\n",
       "      <th>36</th>\n",
       "      <td>1.50955</td>\n",
       "      <td>1.3323e-15</td>\n",
       "      <td>8.8256e-16</td>\n",
       "    </tr>\n",
       "    <tr>\n",
       "      <th>37</th>\n",
       "      <td>1.50955</td>\n",
       "      <td>4.4409e-16</td>\n",
       "      <td>2.9419e-16</td>\n",
       "    </tr>\n",
       "    <tr>\n",
       "      <th>38</th>\n",
       "      <td>1.50955</td>\n",
       "      <td>4.4409e-16</td>\n",
       "      <td>2.9419e-16</td>\n",
       "    </tr>\n",
       "    <tr>\n",
       "      <th>39</th>\n",
       "      <td>1.50955</td>\n",
       "      <td>-</td>\n",
       "      <td>-</td>\n",
       "    </tr>\n",
       "  </tbody>\n",
       "</table>\n",
       "</div>"
      ],
      "text/plain": [
       "          y  $\\Delta y$ $\\Delta y/y$\n",
       "0   0.20000    0.043367      0.21683\n",
       "1   0.24337    0.080133      0.32927\n",
       "2   0.32350     0.14166       0.4379\n",
       "3   0.46516     0.22634      0.48659\n",
       "4   0.69150     0.29194      0.42218\n",
       "5   0.98344     0.26298      0.26741\n",
       "6   1.24642     0.15653      0.12558\n",
       "7   1.40295    0.068154     0.048579\n",
       "8   1.47110    0.025235     0.017154\n",
       "9   1.49634   0.0087499    0.0058475\n",
       "10  1.50509    0.002963    0.0019686\n",
       "11  1.50805  0.00099526   0.00065997\n",
       "12  1.50905  0.00033339   0.00022093\n",
       "13  1.50938  0.00011158   7.3923e-05\n",
       "14  1.50949  3.7331e-05   2.4731e-05\n",
       "15  1.50953  1.2488e-05   8.2731e-06\n",
       "16  1.50954  4.1777e-06   2.7675e-06\n",
       "17  1.50954  1.3975e-06   9.2579e-07\n",
       "18  1.50955   4.675e-07    3.097e-07\n",
       "19  1.50955  1.5639e-07    1.036e-07\n",
       "20  1.50955  5.2315e-08   3.4656e-08\n",
       "21  1.50955    1.75e-08   1.1593e-08\n",
       "22  1.50955  5.8542e-09   3.8781e-09\n",
       "23  1.50955  1.9583e-09   1.2973e-09\n",
       "24  1.50955   6.551e-10   4.3397e-10\n",
       "25  1.50955  2.1914e-10   1.4517e-10\n",
       "26  1.50955  7.3307e-11   4.8562e-11\n",
       "27  1.50955  2.4523e-11   1.6245e-11\n",
       "28  1.50955  8.2037e-12   5.4345e-12\n",
       "29  1.50955   2.744e-12   1.8178e-12\n",
       "30  1.50955  9.1793e-13   6.0808e-13\n",
       "31  1.50955  3.0731e-13   2.0358e-13\n",
       "32  1.50955  1.0258e-13   6.7957e-14\n",
       "33  1.50955  3.4195e-14   2.2652e-14\n",
       "34  1.50955  1.1546e-14   7.6489e-15\n",
       "35  1.50955  3.9968e-15   2.6477e-15\n",
       "36  1.50955  1.3323e-15   8.8256e-16\n",
       "37  1.50955  4.4409e-16   2.9419e-16\n",
       "38  1.50955  4.4409e-16   2.9419e-16\n",
       "39  1.50955           -            -"
      ]
     },
     "execution_count": 135,
     "metadata": {},
     "output_type": "execute_result"
    }
   ],
   "source": [
    "pf2"
   ]
  },
  {
   "cell_type": "markdown",
   "metadata": {},
   "source": [
    "### Para punto fijo la segunda raíz no converge porque |g'| > 1"
   ]
  },
  {
   "cell_type": "code",
   "execution_count": 149,
   "metadata": {
    "scrolled": true
   },
   "outputs": [
    {
     "name": "stdout",
     "output_type": "stream",
     "text": [
      "\\begin{longtable}{lrll}\n",
      "\\toprule\n",
      "{} &          y &    $\\Delta y$ &  $\\Delta y/y$ \\\\\n",
      "\\midrule\n",
      "\\endhead\n",
      "\\midrule\n",
      "\\multicolumn{4}{r}{{Continued on next page}} \\\\\n",
      "\\midrule\n",
      "\\endfoot\n",
      "\n",
      "\\bottomrule\n",
      "\\endlastfoot\n",
      "0  &  1.5000000 &   0.006331935 &    0.00422129 \\\\\n",
      "1  &  1.5063319 &   0.002136925 &   0.001418628 \\\\\n",
      "2  &  1.5084689 &  0.0007169647 &   0.000475293 \\\\\n",
      "3  &  1.5091858 &  0.0002400766 &  0.0001590769 \\\\\n",
      "4  &  1.5094259 &  8.033686e-05 &  5.322345e-05 \\\\\n",
      "5  &  1.5095062 &  2.687718e-05 &  1.780528e-05 \\\\\n",
      "6  &  1.5095331 &  8.991258e-06 &  5.956317e-06 \\\\\n",
      "7  &  1.5095421 &  3.007783e-06 &  1.992513e-06 \\\\\n",
      "8  &  1.5095451 &  1.006164e-06 &  6.665346e-07 \\\\\n",
      "9  &  1.5095461 &  3.365813e-07 &  2.229685e-07 \\\\\n",
      "20 &  1.5095466 &  1.975309e-12 &  1.308544e-12 \\\\\n",
      "21 &  1.5095466 &  6.612488e-13 &  4.380447e-13 \\\\\n",
      "22 &  1.5095466 &  2.211564e-13 &  1.465052e-13 \\\\\n",
      "23 &  1.5095466 &  7.371881e-14 &  4.883507e-14 \\\\\n",
      "24 &  1.5095466 &    2.4869e-14 &  1.647448e-14 \\\\\n",
      "25 &  1.5095466 &  8.437695e-15 &  5.589556e-15 \\\\\n",
      "26 &  1.5095466 &  2.664535e-15 &  1.765123e-15 \\\\\n",
      "27 &  1.5095466 &  1.332268e-15 &  8.825614e-16 \\\\\n",
      "28 &  1.5095466 &  4.440892e-16 &  2.941871e-16 \\\\\n",
      "29 &  1.5095466 &             - &             - \\\\\n",
      "\\end{longtable}\n",
      "\n"
     ]
    }
   ],
   "source": [
    "print(pd.concat([pf3.head(10),pf3.tail(10)]).to_latex(longtable=True,escape=False))"
   ]
  },
  {
   "cell_type": "code",
   "execution_count": 183,
   "metadata": {},
   "outputs": [
    {
     "data": {
      "text/plain": [
       "Text(0, 0.5, 'Diferencia entre iteraciones consecutivas')"
      ]
     },
     "execution_count": 183,
     "metadata": {},
     "output_type": "execute_result"
    },
    {
     "data": {
      "image/png": "[encoded data removed]",
      "text/plain": [
       "<Figure size 720x360 with 1 Axes>"
      ]
     },
     "metadata": {},
     "output_type": "display_data"
    }
   ],
   "source": [
    "fig,ax=plt.subplots(figsize=(10,5))\n",
    "sns.lineplot(data=bisec1['$\\Delta r$'],label='Biseccion')\n",
    "sns.lineplot(data=nr1[:-1]['$\\Delta y$'].astype(float),label='Newton-Raphson')\n",
    "sns.lineplot(data=pf1[:-1]['$\\Delta y$'].astype(float),label='Punto fijo')\n",
    "plt.title('Raíz 1')\n",
    "plt.xlabel('# Iteración')\n",
    "plt.ylabel('Diferencia entre iteraciones consecutivas')"
   ]
  },
  {
   "cell_type": "code",
   "execution_count": 187,
   "metadata": {},
   "outputs": [
    {
     "data": {
      "text/plain": [
       "Text(0, 0.5, 'Diferencia entre iteraciones consecutivas')"
      ]
     },
     "execution_count": 187,
     "metadata": {},
     "output_type": "execute_result"
    },
    {
     "data": {
      "image/png": "[encoded data removed]",
      "text/plain": [
       "<Figure size 720x360 with 1 Axes>"
      ]
     },
     "metadata": {},
     "output_type": "display_data"
    }
   ],
   "source": [
    "fig,ax=plt.subplots(figsize=(10,5))\n",
    "sns.lineplot(data=bisec2['$\\Delta r$'],label='Biseccion')\n",
    "sns.lineplot(data=nr2[:-1]['$\\Delta y$'].astype(float),label='Newton-Raphson')\n",
    "plt.title('Raíz 2')\n",
    "plt.xlabel('# Iteración')\n",
    "plt.ylabel('Diferencia entre iteraciones consecutivas')"
   ]
  },
  {
   "cell_type": "code",
   "execution_count": 188,
   "metadata": {},
   "outputs": [
    {
     "data": {
      "text/plain": [
       "Text(0, 0.5, 'Diferencia entre iteraciones consecutivas')"
      ]
     },
     "execution_count": 188,
     "metadata": {},
     "output_type": "execute_result"
    },
    {
     "data": {
      "image/png": "[encoded data removed]",
      "text/plain": [
       "<Figure size 720x360 with 1 Axes>"
      ]
     },
     "metadata": {},
     "output_type": "display_data"
    }
   ],
   "source": [
    "fig,ax=plt.subplots(figsize=(10,5))\n",
    "sns.lineplot(data=bisec3['$\\Delta r$'],label='Biseccion')\n",
    "sns.lineplot(data=nr3[:-1]['$\\Delta y$'].astype(float),label='Newton-Raphson')\n",
    "sns.lineplot(data=pf3[:-1]['$\\Delta y$'].astype(float),label='Punto fijo')\n",
    "plt.title('Raíz 3')\n",
    "plt.xlabel('# Iteración')\n",
    "plt.ylabel('Diferencia entre iteraciones consecutivas')"
   ]
  },
  {
   "cell_type": "code",
   "execution_count": null,
   "metadata": {},
   "outputs": [],
   "source": []
  }
 ],
 "metadata": {
  "kernelspec": {
   "display_name": "Python 3",
   "language": "python",
   "name": "python3"
  },
  "language_info": {
   "codemirror_mode": {
    "name": "ipython",
    "version": 3
   },
   "file_extension": ".py",
   "mimetype": "text/x-python",
   "name": "python",
   "nbconvert_exporter": "python",
   "pygments_lexer": "ipython3",
   "version": "3.6.7"
  }
 },
 "nbformat": 4,
 "nbformat_minor": 2
}
