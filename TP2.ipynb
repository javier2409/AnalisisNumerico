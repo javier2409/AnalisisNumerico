{
 "cells": [
  {
   "cell_type": "code",
   "execution_count": 1,
   "metadata": {},
   "outputs": [],
   "source": [
    "import numpy as np\n",
    "import matplotlib.pyplot as plt"
   ]
  },
  {
   "cell_type": "markdown",
   "metadata": {},
   "source": [
    "Método de Euler\n",
    "---------------\n"
   ]
  },
  {
   "cell_type": "code",
   "execution_count": 16,
   "metadata": {},
   "outputs": [],
   "source": [
    "def euler (f,h,y0,t0,tf):\n",
    "    i = 0\n",
    "    y_array = [y0]\n",
    "    t_array = [t0]\n",
    "    t = t0\n",
    "    y = y0\n",
    "    while (t <= tf):\n",
    "        y = y + h*f(t,y)\n",
    "        t = t+h\n",
    "        y_array.append(y)\n",
    "        t_array.append(t)\n",
    "    return [y_array,t_array]    \n",
    "    \n",
    "    "
   ]
  },
  {
   "cell_type": "code",
   "execution_count": 33,
   "metadata": {},
   "outputs": [],
   "source": [
    "def g (t,y):\n",
    "    return t*np.cos(y+t**3)+np.log(t+2)"
   ]
  },
  {
   "cell_type": "code",
   "execution_count": 41,
   "metadata": {},
   "outputs": [],
   "source": [
    "a = euler(g,0.001,0,0,3)"
   ]
  },
  {
   "cell_type": "code",
   "execution_count": 45,
   "metadata": {},
   "outputs": [
    {
     "data": {
      "image/png": "[encoded data removed]",
      "text/plain": [
       "<Figure size 432x288 with 1 Axes>"
      ]
     },
     "metadata": {},
     "output_type": "display_data"
    }
   ],
   "source": [
    "plt.plot(a[1],a[0])\n",
    "plt.grid(True)"
   ]
  },
  {
   "cell_type": "markdown",
   "metadata": {},
   "source": [
    "Método de Runge-Kutta de orden 4\n",
    "--------------------------------\n"
   ]
  },
  {
   "cell_type": "code",
   "execution_count": 37,
   "metadata": {},
   "outputs": [],
   "source": [
    "def rk4 (f,h,y0,t0,tf):\n",
    "    y_array = [y0]\n",
    "    t_array = [t0]\n",
    "    y = y0\n",
    "    t = t0\n",
    "    while t <= tf :\n",
    "        k1 = f(t,y)\n",
    "        k2 = f(t+(h/2),y+((h/2)*k1))\n",
    "        k3 = f(t+(h/2),y+((h/2)*k2))\n",
    "        k4 = f(t+h,y+(h*k3))\n",
    "        y = y+((h/6)*(k1+(2*k2)+(2*k3)+k4))\n",
    "        t += h\n",
    "        y_array.append(y)\n",
    "        t_array.append(t)\n",
    "    return [y_array,t_array]"
   ]
  },
  {
   "cell_type": "code",
   "execution_count": 46,
   "metadata": {},
   "outputs": [],
   "source": [
    "b = rk4(g,0.01,0,0,3)"
   ]
  },
  {
   "cell_type": "code",
   "execution_count": 47,
   "metadata": {},
   "outputs": [
    {
     "data": {
      "image/png": "[encoded data removed]",
      "text/plain": [
       "<Figure size 432x288 with 1 Axes>"
      ]
     },
     "metadata": {},
     "output_type": "display_data"
    }
   ],
   "source": [
    "plt.plot(b[1],b[0])\n",
    "plt.grid(True)"
   ]
  },
  {
   "cell_type": "markdown",
   "metadata": {},
   "source": [
    "Trabajo Práctico\n",
    "----------------"
   ]
  },
  {
   "cell_type": "code",
   "execution_count": 49,
   "metadata": {},
   "outputs": [],
   "source": [
    "def f (x,T):\n",
    "    return ((((-hc)*s) / (m*C)) * (T-T_inf)) + (o*e*s*((T**4) - (T_inf**4)))\n",
    "\n",
    "def T_inf (x,T1,T2):\n",
    "    if x<=(L/2):\n",
    "        return T1\n",
    "    else:\n",
    "        return T2"
   ]
  },
  {
   "cell_type": "markdown",
   "metadata": {},
   "source": [
    "Punto 1\n",
    "-------\n",
    "\n"
   ]
  },
  {
   "cell_type": "code",
   "execution_count": null,
   "metadata": {},
   "outputs": [],
   "source": []
  }
 ],
 "metadata": {
  "kernelspec": {
   "display_name": "Python 3",
   "language": "python",
   "name": "python3"
  },
  "language_info": {
   "codemirror_mode": {
    "name": "ipython",
    "version": 3
   },
   "file_extension": ".py",
   "mimetype": "text/x-python",
   "name": "python",
   "nbconvert_exporter": "python",
   "pygments_lexer": "ipython3",
   "version": "3.6.7"
  }
 },
 "nbformat": 4,
 "nbformat_minor": 2
}
